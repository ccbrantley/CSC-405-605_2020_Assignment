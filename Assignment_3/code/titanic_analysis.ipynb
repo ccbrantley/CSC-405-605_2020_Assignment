{
 "cells": [
  {
   "cell_type": "markdown",
   "metadata": {},
   "source": [
    "# Titanic Survival\n",
    "\n",
    "#### Grading:\n",
    "\n",
    "\n",
    "- Code: 90 pts\n",
    "- Markdown Documentation: 10 pts\n"
   ]
  },
  {
   "cell_type": "markdown",
   "metadata": {},
   "source": [
    "We are going to study the survival rate of passengers on titanic and what variables affected survival."
   ]
  },
  {
   "cell_type": "markdown",
   "metadata": {},
   "source": [
    "Load the dataset in `titanic.xls`. It contains data on all the passengers that travelled on the Titanic."
   ]
  },
  {
   "cell_type": "markdown",
   "metadata": {},
   "source": [
    "## Imports.\n"
   ]
  },
  {
   "cell_type": "code",
   "execution_count": 15,
   "metadata": {},
   "outputs": [],
   "source": [
    "import pandas as pd\n",
    "import matplotlib\n",
    "import matplotlib.pyplot as plt\n",
    "import numpy as np\n",
    "import scipy.stats as stats"
   ]
  },
  {
   "cell_type": "markdown",
   "metadata": {},
   "source": [
    "## Pandas Display Options."
   ]
  },
  {
   "cell_type": "code",
   "execution_count": 16,
   "metadata": {},
   "outputs": [],
   "source": [
    "# Telling pandas not convert to html tags.\n",
    "pd.set_option('display.html.table_schema', True)\n",
    "# Max columns and rows to display.\n",
    "pd.set_option('display.max_columns', 15)\n",
    "pd.set_option('display.max_rows', 8)"
   ]
  },
  {
   "cell_type": "code",
   "execution_count": 17,
   "metadata": {},
   "outputs": [
    {
     "data": {
      "text/html": [
       "<hr><h2>Data frame:titanic3</h2>1309 observations and 14 variables, maximum # NAs:1188<hr>\n",
       "<TABLE BORDER>\n",
       "<tr><td>Name</td><td>Labels</td><td>Units</td><td>Levels</td><td>Storage</td><td>NAs</td></tr>\n",
       "<tr><td>pclass</td><td></td><td></td><td><a href=\"#pclass\"><div align=right>  3</div></a></td><td>integer</td><td><div align=right>   0</div></td></tr>\n",
       "<tr><td>survived</td><td>Survived</td><td></td><td><div align=right></div></td><td>double</td><td><div align=right>   0</div></td></tr>\n",
       "<tr><td>name</td><td>Name</td><td></td><td><div align=right></div></td><td>character</td><td><div align=right>   0</div></td></tr>\n",
       "<tr><td>sex</td><td></td><td></td><td><a href=\"#sex\"><div align=right>  2</div></a></td><td>integer</td><td><div align=right>   0</div></td></tr>\n",
       "<tr><td>age</td><td>Age</td><td>Year</td><td><div align=right></div></td><td>double</td><td><div align=right> 263</div></td></tr>\n",
       "<tr><td>sibsp</td><td>Number of Siblings/Spouses Aboard</td><td></td><td><div align=right></div></td><td>double</td><td><div align=right>   0</div></td></tr>\n",
       "<tr><td>parch</td><td>Number of Parents/Children Aboard</td><td></td><td><div align=right></div></td><td>double</td><td><div align=right>   0</div></td></tr>\n",
       "<tr><td>ticket</td><td>Ticket Number</td><td></td><td><div align=right></div></td><td>character</td><td><div align=right>   0</div></td></tr>\n",
       "<tr><td>fare</td><td>Passenger Fare</td><td>British Pound (\\243)</td><td><div align=right></div></td><td>double</td><td><div align=right>   1</div></td></tr>\n",
       "<tr><td>cabin</td><td></td><td></td><td><a href=\"#cabin\"><div align=right>187</div></a></td><td>integer</td><td><div align=right>   0</div></td></tr>\n",
       "<tr><td>embarked</td><td></td><td></td><td><a href=\"#embarked\"><div align=right>  3</div></a></td><td>integer</td><td><div align=right>   2</div></td></tr>\n",
       "<tr><td>boat</td><td></td><td></td><td><a href=\"#boat\"><div align=right> 28</div></a></td><td>integer</td><td><div align=right>   0</div></td></tr>\n",
       "<tr><td>body</td><td>Body Identification Number</td><td></td><td><div align=right></div></td><td>double</td><td><div align=right>1188</div></td></tr>\n",
       "<tr><td>home.dest</td><td>Home/Destination</td><td></td><td><div align=right></div></td><td>character</td><td><div align=right>   0</div></td></tr>\n",
       "</TABLE>\n",
       "<hr>\n",
       "<TABLE BORDER>\n",
       "<tr><td>Variable</td><td>Levels</td></tr>\n",
       "<tr><td><a name=\"pclass\">pclass</a></td><td>1st</td></tr>\n",
       "<tr><td></td><td>2nd</td></tr>\n",
       "<tr><td></td><td>3rd</td></tr>\n",
       "<tr><td><a name=\"sex\">sex</a></td><td>female</td></tr>\n",
       "<tr><td></td><td>male</td></tr>\n",
       "<tr><td><a name=\"cabin\">cabin</a></td><td></td></tr>\n",
       "<tr><td></td><td>A10</td></tr>\n",
       "<tr><td></td><td>A11</td></tr>\n",
       "<tr><td></td><td>A14</td></tr>\n",
       "<tr><td></td><td>A16</td></tr>\n",
       "<tr><td></td><td>A18</td></tr>\n",
       "<tr><td></td><td>A19</td></tr>\n",
       "<tr><td></td><td>A20</td></tr>\n",
       "<tr><td></td><td>A21</td></tr>\n",
       "<tr><td></td><td>A23</td></tr>\n",
       "<tr><td></td><td>A24</td></tr>\n",
       "<tr><td></td><td>A26</td></tr>\n",
       "<tr><td></td><td>A29</td></tr>\n",
       "<tr><td></td><td>A31</td></tr>\n",
       "<tr><td></td><td>A32</td></tr>\n",
       "<tr><td></td><td>A34</td></tr>\n",
       "<tr><td></td><td>A36</td></tr>\n",
       "<tr><td></td><td>A5</td></tr>\n",
       "<tr><td></td><td>A6</td></tr>\n",
       "<tr><td></td><td>A7</td></tr>\n",
       "<tr><td></td><td>A9</td></tr>\n",
       "<tr><td></td><td>B10</td></tr>\n",
       "<tr><td></td><td>B101</td></tr>\n",
       "<tr><td></td><td>B102</td></tr>\n",
       "<tr><td></td><td>B11</td></tr>\n",
       "<tr><td></td><td>B18</td></tr>\n",
       "<tr><td></td><td>B19</td></tr>\n",
       "<tr><td></td><td>B20</td></tr>\n",
       "<tr><td></td><td>B22</td></tr>\n",
       "<tr><td></td><td>B24</td></tr>\n",
       "<tr><td></td><td>B26</td></tr>\n",
       "<tr><td></td><td>B28</td></tr>\n",
       "<tr><td></td><td>B3</td></tr>\n",
       "<tr><td></td><td>B30</td></tr>\n",
       "<tr><td></td><td>B35</td></tr>\n",
       "<tr><td></td><td>B36</td></tr>\n",
       "<tr><td></td><td>B37</td></tr>\n",
       "<tr><td></td><td>B38</td></tr>\n",
       "<tr><td></td><td>B39</td></tr>\n",
       "<tr><td></td><td>B4</td></tr>\n",
       "<tr><td></td><td>B41</td></tr>\n",
       "<tr><td></td><td>B42</td></tr>\n",
       "<tr><td></td><td>B45</td></tr>\n",
       "<tr><td></td><td>B49</td></tr>\n",
       "<tr><td></td><td>B5</td></tr>\n",
       "<tr><td></td><td>B50</td></tr>\n",
       "<tr><td></td><td>B51 B53 B55</td></tr>\n",
       "<tr><td></td><td>B52 B54 B56</td></tr>\n",
       "<tr><td></td><td>B57 B59 B63 B66</td></tr>\n",
       "<tr><td></td><td>B58 B60</td></tr>\n",
       "<tr><td></td><td>B61</td></tr>\n",
       "<tr><td></td><td>B69</td></tr>\n",
       "<tr><td></td><td>B71</td></tr>\n",
       "<tr><td></td><td>B73</td></tr>\n",
       "<tr><td></td><td>B77</td></tr>\n",
       "<tr><td></td><td>B78</td></tr>\n",
       "<tr><td></td><td>B79</td></tr>\n",
       "<tr><td></td><td>B80</td></tr>\n",
       "<tr><td></td><td>B82 B84</td></tr>\n",
       "<tr><td></td><td>B86</td></tr>\n",
       "<tr><td></td><td>B94</td></tr>\n",
       "<tr><td></td><td>B96 B98</td></tr>\n",
       "<tr><td></td><td>C101</td></tr>\n",
       "<tr><td></td><td>C103</td></tr>\n",
       "<tr><td></td><td>C104</td></tr>\n",
       "<tr><td></td><td>C105</td></tr>\n",
       "<tr><td></td><td>C106</td></tr>\n",
       "<tr><td></td><td>C110</td></tr>\n",
       "<tr><td></td><td>C111</td></tr>\n",
       "<tr><td></td><td>C116</td></tr>\n",
       "<tr><td></td><td>C118</td></tr>\n",
       "<tr><td></td><td>C123</td></tr>\n",
       "<tr><td></td><td>C124</td></tr>\n",
       "<tr><td></td><td>C125</td></tr>\n",
       "<tr><td></td><td>C126</td></tr>\n",
       "<tr><td></td><td>C128</td></tr>\n",
       "<tr><td></td><td>C130</td></tr>\n",
       "<tr><td></td><td>C132</td></tr>\n",
       "<tr><td></td><td>C148</td></tr>\n",
       "<tr><td></td><td>C2</td></tr>\n",
       "<tr><td></td><td>C22 C26</td></tr>\n",
       "<tr><td></td><td>C23 C25 C27</td></tr>\n",
       "<tr><td></td><td>C28</td></tr>\n",
       "<tr><td></td><td>C30</td></tr>\n",
       "<tr><td></td><td>C31</td></tr>\n",
       "<tr><td></td><td>C32</td></tr>\n",
       "<tr><td></td><td>C39</td></tr>\n",
       "<tr><td></td><td>C45</td></tr>\n",
       "<tr><td></td><td>C46</td></tr>\n",
       "<tr><td></td><td>C47</td></tr>\n",
       "<tr><td></td><td>C49</td></tr>\n",
       "<tr><td></td><td>C50</td></tr>\n",
       "<tr><td></td><td>C51</td></tr>\n",
       "<tr><td></td><td>C52</td></tr>\n",
       "<tr><td></td><td>C53</td></tr>\n",
       "<tr><td></td><td>C54</td></tr>\n",
       "<tr><td></td><td>C55 C57</td></tr>\n",
       "<tr><td></td><td>C6</td></tr>\n",
       "<tr><td></td><td>C62 C64</td></tr>\n",
       "<tr><td></td><td>C65</td></tr>\n",
       "<tr><td></td><td>C68</td></tr>\n",
       "<tr><td></td><td>C7</td></tr>\n",
       "<tr><td></td><td>C70</td></tr>\n",
       "<tr><td></td><td>C78</td></tr>\n",
       "<tr><td></td><td>C80</td></tr>\n",
       "<tr><td></td><td>C82</td></tr>\n",
       "<tr><td></td><td>C83</td></tr>\n",
       "<tr><td></td><td>C85</td></tr>\n",
       "<tr><td></td><td>C86</td></tr>\n",
       "<tr><td></td><td>C87</td></tr>\n",
       "<tr><td></td><td>C89</td></tr>\n",
       "<tr><td></td><td>C90</td></tr>\n",
       "<tr><td></td><td>C91</td></tr>\n",
       "<tr><td></td><td>C92</td></tr>\n",
       "<tr><td></td><td>C93</td></tr>\n",
       "<tr><td></td><td>C95</td></tr>\n",
       "<tr><td></td><td>C97</td></tr>\n",
       "<tr><td></td><td>C99</td></tr>\n",
       "<tr><td></td><td>D</td></tr>\n",
       "<tr><td></td><td>D10 D12</td></tr>\n",
       "<tr><td></td><td>D11</td></tr>\n",
       "<tr><td></td><td>D15</td></tr>\n",
       "<tr><td></td><td>D17</td></tr>\n",
       "<tr><td></td><td>D19</td></tr>\n",
       "<tr><td></td><td>D20</td></tr>\n",
       "<tr><td></td><td>D21</td></tr>\n",
       "<tr><td></td><td>D22</td></tr>\n",
       "<tr><td></td><td>D26</td></tr>\n",
       "<tr><td></td><td>D28</td></tr>\n",
       "<tr><td></td><td>D30</td></tr>\n",
       "<tr><td></td><td>D33</td></tr>\n",
       "<tr><td></td><td>D34</td></tr>\n",
       "<tr><td></td><td>D35</td></tr>\n",
       "<tr><td></td><td>D36</td></tr>\n",
       "<tr><td></td><td>D37</td></tr>\n",
       "<tr><td></td><td>D38</td></tr>\n",
       "<tr><td></td><td>D40</td></tr>\n",
       "<tr><td></td><td>D43</td></tr>\n",
       "<tr><td></td><td>D45</td></tr>\n",
       "<tr><td></td><td>D46</td></tr>\n",
       "<tr><td></td><td>D47</td></tr>\n",
       "<tr><td></td><td>D48</td></tr>\n",
       "<tr><td></td><td>D49</td></tr>\n",
       "<tr><td></td><td>D50</td></tr>\n",
       "<tr><td></td><td>D56</td></tr>\n",
       "<tr><td></td><td>D6</td></tr>\n",
       "<tr><td></td><td>D7</td></tr>\n",
       "<tr><td></td><td>D9</td></tr>\n",
       "<tr><td></td><td>E10</td></tr>\n",
       "<tr><td></td><td>E101</td></tr>\n",
       "<tr><td></td><td>E12</td></tr>\n",
       "<tr><td></td><td>E121</td></tr>\n",
       "<tr><td></td><td>E17</td></tr>\n",
       "<tr><td></td><td>E24</td></tr>\n",
       "<tr><td></td><td>E25</td></tr>\n",
       "<tr><td></td><td>E31</td></tr>\n",
       "<tr><td></td><td>E33</td></tr>\n",
       "<tr><td></td><td>E34</td></tr>\n",
       "<tr><td></td><td>E36</td></tr>\n",
       "<tr><td></td><td>E38</td></tr>\n",
       "<tr><td></td><td>E39 E41</td></tr>\n",
       "<tr><td></td><td>E40</td></tr>\n",
       "<tr><td></td><td>E44</td></tr>\n",
       "<tr><td></td><td>E45</td></tr>\n",
       "<tr><td></td><td>E46</td></tr>\n",
       "<tr><td></td><td>E49</td></tr>\n",
       "<tr><td></td><td>E50</td></tr>\n",
       "<tr><td></td><td>E52</td></tr>\n",
       "<tr><td></td><td>E58</td></tr>\n",
       "<tr><td></td><td>E60</td></tr>\n",
       "<tr><td></td><td>E63</td></tr>\n",
       "<tr><td></td><td>E67</td></tr>\n",
       "<tr><td></td><td>E68</td></tr>\n",
       "<tr><td></td><td>E77</td></tr>\n",
       "<tr><td></td><td>E8</td></tr>\n",
       "<tr><td></td><td>F</td></tr>\n",
       "<tr><td></td><td>F E46</td></tr>\n",
       "<tr><td></td><td>F E57</td></tr>\n",
       "<tr><td></td><td>F E69</td></tr>\n",
       "<tr><td></td><td>F G63</td></tr>\n",
       "<tr><td></td><td>F G73</td></tr>\n",
       "<tr><td></td><td>F2</td></tr>\n",
       "<tr><td></td><td>F33</td></tr>\n",
       "<tr><td></td><td>F38</td></tr>\n",
       "<tr><td></td><td>F4</td></tr>\n",
       "<tr><td></td><td>G6</td></tr>\n",
       "<tr><td></td><td>T</td></tr>\n",
       "<tr><td><a name=\"embarked\">embarked</a></td><td>Cherbourg</td></tr>\n",
       "<tr><td></td><td>Queenstown</td></tr>\n",
       "<tr><td></td><td>Southampton</td></tr>\n",
       "<tr><td><a name=\"boat\">boat</a></td><td></td></tr>\n",
       "<tr><td></td><td>1</td></tr>\n",
       "<tr><td></td><td>10</td></tr>\n",
       "<tr><td></td><td>11</td></tr>\n",
       "<tr><td></td><td>12</td></tr>\n",
       "<tr><td></td><td>13</td></tr>\n",
       "<tr><td></td><td>13 15</td></tr>\n",
       "<tr><td></td><td>13 15 B</td></tr>\n",
       "<tr><td></td><td>14</td></tr>\n",
       "<tr><td></td><td>15</td></tr>\n",
       "<tr><td></td><td>15 16</td></tr>\n",
       "<tr><td></td><td>16</td></tr>\n",
       "<tr><td></td><td>2</td></tr>\n",
       "<tr><td></td><td>3</td></tr>\n",
       "<tr><td></td><td>4</td></tr>\n",
       "<tr><td></td><td>5</td></tr>\n",
       "<tr><td></td><td>5 7</td></tr>\n",
       "<tr><td></td><td>5 9</td></tr>\n",
       "<tr><td></td><td>6</td></tr>\n",
       "<tr><td></td><td>7</td></tr>\n",
       "<tr><td></td><td>8</td></tr>\n",
       "<tr><td></td><td>8 10</td></tr>\n",
       "<tr><td></td><td>9</td></tr>\n",
       "<tr><td></td><td>A</td></tr>\n",
       "<tr><td></td><td>B</td></tr>\n",
       "<tr><td></td><td>C</td></tr>\n",
       "<tr><td></td><td>C D</td></tr>\n",
       "<tr><td></td><td>D</td></tr>\n",
       "</TABLE>\n",
       "<hr>\n"
      ],
      "text/plain": [
       "<IPython.core.display.HTML object>"
      ]
     },
     "execution_count": 17,
     "metadata": {},
     "output_type": "execute_result"
    }
   ],
   "source": [
    "from IPython.core.display import HTML\n",
    "HTML(filename='../data/titanic.html')"
   ]
  },
  {
   "cell_type": "code",
   "execution_count": 28,
   "metadata": {},
   "outputs": [
    {
     "data": {
      "application/vnd.dataresource+json": {
       "data": [
        {
         "0": "pclass",
         "1": "survived",
         "10": "embarked",
         "11": "boat",
         "12": "body",
         "13": "home.dest",
         "2": "name",
         "3": "sex",
         "4": "age",
         "5": "sibsp",
         "6": "parch",
         "7": "ticket",
         "8": "fare",
         "9": "cabin",
         "index": 0
        },
        {
         "0": 1,
         "1": 1,
         "10": "S",
         "11": 2,
         "12": null,
         "13": "St Louis, MO",
         "2": "Allen, Miss. Elisabeth Walton",
         "3": "female",
         "4": 29,
         "5": 0,
         "6": 0,
         "7": 24160,
         "8": 211.3375,
         "9": "B5",
         "index": 1
        },
        {
         "0": 1,
         "1": 1,
         "10": "S",
         "11": "11",
         "12": null,
         "13": "Montreal, PQ / Chesterville, ON",
         "2": "Allison, Master. Hudson Trevor",
         "3": "male",
         "4": 0.9167,
         "5": 1,
         "6": 2,
         "7": 113781,
         "8": 151.55,
         "9": "C22 C26",
         "index": 2
        },
        {
         "0": 1,
         "1": 0,
         "10": "S",
         "11": null,
         "12": null,
         "13": "Montreal, PQ / Chesterville, ON",
         "2": "Allison, Miss. Helen Loraine",
         "3": "female",
         "4": 2,
         "5": 1,
         "6": 2,
         "7": 113781,
         "8": 151.55,
         "9": "C22 C26",
         "index": 3
        },
        {
         "0": 1,
         "1": 0,
         "10": "S",
         "11": null,
         "12": 135,
         "13": "Montreal, PQ / Chesterville, ON",
         "2": "Allison, Mr. Hudson Joshua Creighton",
         "3": "male",
         "4": 30,
         "5": 1,
         "6": 2,
         "7": 113781,
         "8": 151.55,
         "9": "C22 C26",
         "index": 4
        }
       ],
       "schema": {
        "fields": [
         {
          "name": "index",
          "type": "integer"
         },
         {
          "name": 0,
          "type": "string"
         },
         {
          "name": 1,
          "type": "string"
         },
         {
          "name": 2,
          "type": "string"
         },
         {
          "name": 3,
          "type": "string"
         },
         {
          "name": 4,
          "type": "string"
         },
         {
          "name": 5,
          "type": "string"
         },
         {
          "name": 6,
          "type": "string"
         },
         {
          "name": 7,
          "type": "string"
         },
         {
          "name": 8,
          "type": "string"
         },
         {
          "name": 9,
          "type": "string"
         },
         {
          "name": 10,
          "type": "string"
         },
         {
          "name": 11,
          "type": "string"
         },
         {
          "name": 12,
          "type": "string"
         },
         {
          "name": 13,
          "type": "string"
         }
        ],
        "pandas_version": "0.20.0",
        "primaryKey": [
         "index"
        ]
       }
      },
      "text/html": [
       "<div>\n",
       "<style scoped>\n",
       "    .dataframe tbody tr th:only-of-type {\n",
       "        vertical-align: middle;\n",
       "    }\n",
       "\n",
       "    .dataframe tbody tr th {\n",
       "        vertical-align: top;\n",
       "    }\n",
       "\n",
       "    .dataframe thead th {\n",
       "        text-align: right;\n",
       "    }\n",
       "</style>\n",
       "<table border=\"1\" class=\"dataframe\">\n",
       "  <thead>\n",
       "    <tr style=\"text-align: right;\">\n",
       "      <th></th>\n",
       "      <th>0</th>\n",
       "      <th>1</th>\n",
       "      <th>2</th>\n",
       "      <th>3</th>\n",
       "      <th>4</th>\n",
       "      <th>5</th>\n",
       "      <th>6</th>\n",
       "      <th>7</th>\n",
       "      <th>8</th>\n",
       "      <th>9</th>\n",
       "      <th>10</th>\n",
       "      <th>11</th>\n",
       "      <th>12</th>\n",
       "      <th>13</th>\n",
       "    </tr>\n",
       "  </thead>\n",
       "  <tbody>\n",
       "    <tr>\n",
       "      <th>0</th>\n",
       "      <td>pclass</td>\n",
       "      <td>survived</td>\n",
       "      <td>name</td>\n",
       "      <td>sex</td>\n",
       "      <td>age</td>\n",
       "      <td>sibsp</td>\n",
       "      <td>parch</td>\n",
       "      <td>ticket</td>\n",
       "      <td>fare</td>\n",
       "      <td>cabin</td>\n",
       "      <td>embarked</td>\n",
       "      <td>boat</td>\n",
       "      <td>body</td>\n",
       "      <td>home.dest</td>\n",
       "    </tr>\n",
       "    <tr>\n",
       "      <th>1</th>\n",
       "      <td>1</td>\n",
       "      <td>1</td>\n",
       "      <td>Allen, Miss. Elisabeth Walton</td>\n",
       "      <td>female</td>\n",
       "      <td>29</td>\n",
       "      <td>0</td>\n",
       "      <td>0</td>\n",
       "      <td>24160</td>\n",
       "      <td>211.338</td>\n",
       "      <td>B5</td>\n",
       "      <td>S</td>\n",
       "      <td>2</td>\n",
       "      <td>NaN</td>\n",
       "      <td>St Louis, MO</td>\n",
       "    </tr>\n",
       "    <tr>\n",
       "      <th>2</th>\n",
       "      <td>1</td>\n",
       "      <td>1</td>\n",
       "      <td>Allison, Master. Hudson Trevor</td>\n",
       "      <td>male</td>\n",
       "      <td>0.9167</td>\n",
       "      <td>1</td>\n",
       "      <td>2</td>\n",
       "      <td>113781</td>\n",
       "      <td>151.55</td>\n",
       "      <td>C22 C26</td>\n",
       "      <td>S</td>\n",
       "      <td>11</td>\n",
       "      <td>NaN</td>\n",
       "      <td>Montreal, PQ / Chesterville, ON</td>\n",
       "    </tr>\n",
       "    <tr>\n",
       "      <th>3</th>\n",
       "      <td>1</td>\n",
       "      <td>0</td>\n",
       "      <td>Allison, Miss. Helen Loraine</td>\n",
       "      <td>female</td>\n",
       "      <td>2</td>\n",
       "      <td>1</td>\n",
       "      <td>2</td>\n",
       "      <td>113781</td>\n",
       "      <td>151.55</td>\n",
       "      <td>C22 C26</td>\n",
       "      <td>S</td>\n",
       "      <td>NaN</td>\n",
       "      <td>NaN</td>\n",
       "      <td>Montreal, PQ / Chesterville, ON</td>\n",
       "    </tr>\n",
       "    <tr>\n",
       "      <th>4</th>\n",
       "      <td>1</td>\n",
       "      <td>0</td>\n",
       "      <td>Allison, Mr. Hudson Joshua Creighton</td>\n",
       "      <td>male</td>\n",
       "      <td>30</td>\n",
       "      <td>1</td>\n",
       "      <td>2</td>\n",
       "      <td>113781</td>\n",
       "      <td>151.55</td>\n",
       "      <td>C22 C26</td>\n",
       "      <td>S</td>\n",
       "      <td>NaN</td>\n",
       "      <td>135</td>\n",
       "      <td>Montreal, PQ / Chesterville, ON</td>\n",
       "    </tr>\n",
       "  </tbody>\n",
       "</table>\n",
       "</div>"
      ],
      "text/plain": [
       "       0         1                                     2       3       4   \\\n",
       "0  pclass  survived                                  name     sex     age   \n",
       "1       1         1         Allen, Miss. Elisabeth Walton  female      29   \n",
       "2       1         1        Allison, Master. Hudson Trevor    male  0.9167   \n",
       "3       1         0          Allison, Miss. Helen Loraine  female       2   \n",
       "4       1         0  Allison, Mr. Hudson Joshua Creighton    male      30   \n",
       "\n",
       "      5      6       7        8        9         10    11    12  \\\n",
       "0  sibsp  parch  ticket     fare    cabin  embarked  boat  body   \n",
       "1      0      0   24160  211.338       B5         S     2   NaN   \n",
       "2      1      2  113781   151.55  C22 C26         S    11   NaN   \n",
       "3      1      2  113781   151.55  C22 C26         S   NaN   NaN   \n",
       "4      1      2  113781   151.55  C22 C26         S   NaN   135   \n",
       "\n",
       "                                13  \n",
       "0                        home.dest  \n",
       "1                     St Louis, MO  \n",
       "2  Montreal, PQ / Chesterville, ON  \n",
       "3  Montreal, PQ / Chesterville, ON  \n",
       "4  Montreal, PQ / Chesterville, ON  "
      ]
     },
     "execution_count": 28,
     "metadata": {},
     "output_type": "execute_result"
    }
   ],
   "source": [
    "# you would need xlrd - pip install xlrd\n",
    "t_file = pd.ExcelFile('../data/titanic.xls')\n",
    "t_df = t_file.parse(\"titanic\", header=None)\n",
    "t_df.head()"
   ]
  },
  {
   "cell_type": "markdown",
   "metadata": {},
   "source": [
    "### Women and children first?\n",
    "\n",
    "*** 1. Use the `groupby` method to calculate the proportion of passengers that survived by sex. (10 pts)*** "
   ]
  },
  {
   "cell_type": "code",
   "execution_count": 70,
   "metadata": {},
   "outputs": [
    {
     "name": "stdout",
     "output_type": "stream",
     "text": [
      "0.2587786259541985\n"
     ]
    }
   ],
   "source": [
    "df_female = t_df.groupby(by = 3).get_group(\"female\")\n",
    "print(df_female[df_female.loc[:, 1] == 1].shape[0] / t_df.shape[0])"
   ]
  },
  {
   "cell_type": "code",
   "execution_count": 57,
   "metadata": {},
   "outputs": [
    {
     "name": "stdout",
     "output_type": "stream",
     "text": [
      "Male passenger survival rate: 19.10%\n"
     ]
    }
   ],
   "source": [
    "df_male = t_df.groupby(by = 3).get_group(\"male\")\n",
    "total_male = df_male.shape[0]\n",
    "total_m_survived = df_male[df_male.loc[:, 1] == 1].shape[0]\n",
    "survival_rate_male = (total_m_survived / total_male)\n",
    "print(\"Male passenger survival rate: {:.2%}\".format(survival_rate_male))"
   ]
  },
  {
   "cell_type": "code",
   "execution_count": 60,
   "metadata": {},
   "outputs": [
    {
     "name": "stdout",
     "output_type": "stream",
     "text": [
      "Female passenger survival rate: 72.75%\n"
     ]
    }
   ],
   "source": [
    "df_female = t_df.groupby(by = 3).get_group(\"female\")\n",
    "total_female = df_female.shape[0]\n",
    "total_f_survived = df_female[df_female.loc[:, 1] == 1].shape[0]\n",
    "survival_rate_female = (total_f_survived / total_female)\n",
    "print(\"Female passenger survival rate: {:.2%}\".format(survival_rate_female))"
   ]
  },
  {
   "cell_type": "markdown",
   "metadata": {},
   "source": [
    "*** 2. Calculate the same proportion, but by class and sex. (10 pts)*** "
   ]
  },
  {
   "cell_type": "code",
   "execution_count": 67,
   "metadata": {},
   "outputs": [
    {
     "name": "stdout",
     "output_type": "stream",
     "text": [
      "Male and pclass 1 survival rate: 7.24%\n",
      "Male and pclass 2 survival rate: 2.97%\n",
      "Male and pclass 3 survival rate: 8.90%\n"
     ]
    }
   ],
   "source": [
    "df_male = t_df.groupby(by = 3).get_group(\"male\")\n",
    "df_male_1 = df_male.groupby(by = 0).get_group(1)\n",
    "df_male_2 = df_male.groupby(by = 0).get_group(2)\n",
    "df_male_3 = df_male.groupby(by = 0).get_group(3)\n",
    "male_1_survived = df_male_1[df_male_1.loc[:, 1] == 1].shape[0]\n",
    "male_2_survived = df_male_2[df_male_2.loc[:, 1] == 1].shape[0]\n",
    "male_3_survived = df_male_3[df_male_3.loc[:, 1] == 1].shape[0]\n",
    "total_male = df_male.shape[0]\n",
    "print(\"Male and pclass 1 survival rate: {:.2%}\".format(male_1_survived / total_male))\n",
    "print(\"Male and pclass 2 survival rate: {:.2%}\".format(male_2_survived / total_male))\n",
    "print(\"Male and pclass 3 survival rate: {:.2%}\".format(male_3_survived / total_male))"
   ]
  },
  {
   "cell_type": "code",
   "execution_count": 68,
   "metadata": {},
   "outputs": [
    {
     "name": "stdout",
     "output_type": "stream",
     "text": [
      "Female and pclass 1 survival rate: 29.83%\n",
      "Female and pclass 2 survival rate: 20.17%\n",
      "Female and pclass 3 survival rate: 22.75%\n"
     ]
    }
   ],
   "source": [
    "df_female = t_df.groupby(by = 3).get_group(\"female\")\n",
    "df_f_1 = df_female.groupby(by = 0).get_group(1)\n",
    "df_f_2 = df_female.groupby(by = 0).get_group(2)\n",
    "df_f_3 = df_female.groupby(by = 0).get_group(3)\n",
    "f_1_survived = df_f_1[df_f_1.loc[:, 1] == 1].shape[0]\n",
    "f_2_survived = df_f_2[df_f_2.loc[:, 1] == 1].shape[0]\n",
    "f_3_survived = df_f_3[df_f_3.loc[:, 1] == 1].shape[0]\n",
    "total_female = df_female.shape[0]\n",
    "print(\"Female and pclass 1 survival rate: {:.2%}\".format(f_1_survived / total_female))\n",
    "print(\"Female and pclass 2 survival rate: {:.2%}\".format(f_2_survived / total_female))\n",
    "print(\"Female and pclass 3 survival rate: {:.2%}\".format(f_3_survived / total_female))"
   ]
  },
  {
   "cell_type": "markdown",
   "metadata": {},
   "source": [
    "*** 3. Create age categories: children (under 14 years), adolescents (14-20), adult (21-64), and senior(65+), and calculate survival proportions by age category, class and sex. (20 pts)***"
   ]
  },
  {
   "cell_type": "code",
   "execution_count": 72,
   "metadata": {},
   "outputs": [
    {
     "data": {
      "application/vnd.dataresource+json": {
       "data": [
        {
         "0": "pclass",
         "1": "survived",
         "10": "embarked",
         "11": "boat",
         "12": "body",
         "13": "home.dest",
         "2": "name",
         "3": "sex",
         "4": "age",
         "5": "sibsp",
         "6": "parch",
         "7": "ticket",
         "8": "fare",
         "9": "cabin",
         "index": 0
        },
        {
         "0": 1,
         "1": 1,
         "10": "S",
         "11": 2,
         "12": null,
         "13": "St Louis, MO",
         "2": "Allen, Miss. Elisabeth Walton",
         "3": "female",
         "4": 29,
         "5": 0,
         "6": 0,
         "7": 24160,
         "8": 211.3375,
         "9": "B5",
         "index": 1
        },
        {
         "0": 1,
         "1": 1,
         "10": "S",
         "11": "11",
         "12": null,
         "13": "Montreal, PQ / Chesterville, ON",
         "2": "Allison, Master. Hudson Trevor",
         "3": "male",
         "4": 0.9167,
         "5": 1,
         "6": 2,
         "7": 113781,
         "8": 151.55,
         "9": "C22 C26",
         "index": 2
        },
        {
         "0": 1,
         "1": 0,
         "10": "S",
         "11": null,
         "12": null,
         "13": "Montreal, PQ / Chesterville, ON",
         "2": "Allison, Miss. Helen Loraine",
         "3": "female",
         "4": 2,
         "5": 1,
         "6": 2,
         "7": 113781,
         "8": 151.55,
         "9": "C22 C26",
         "index": 3
        },
        {
         "0": 1,
         "1": 0,
         "10": "S",
         "11": null,
         "12": 135,
         "13": "Montreal, PQ / Chesterville, ON",
         "2": "Allison, Mr. Hudson Joshua Creighton",
         "3": "male",
         "4": 30,
         "5": 1,
         "6": 2,
         "7": 113781,
         "8": 151.55,
         "9": "C22 C26",
         "index": 4
        },
        {
         "0": 1,
         "1": 0,
         "10": "S",
         "11": null,
         "12": null,
         "13": "Montreal, PQ / Chesterville, ON",
         "2": "Allison, Mrs. Hudson J C (Bessie Waldo Daniels)",
         "3": "female",
         "4": 25,
         "5": 1,
         "6": 2,
         "7": 113781,
         "8": 151.55,
         "9": "C22 C26",
         "index": 5
        },
        {
         "0": 1,
         "1": 1,
         "10": "S",
         "11": "3",
         "12": null,
         "13": "New York, NY",
         "2": "Anderson, Mr. Harry",
         "3": "male",
         "4": 48,
         "5": 0,
         "6": 0,
         "7": 19952,
         "8": 26.55,
         "9": "E12",
         "index": 6
        },
        {
         "0": 1,
         "1": 1,
         "10": "S",
         "11": "10",
         "12": null,
         "13": "Hudson, NY",
         "2": "Andrews, Miss. Kornelia Theodosia",
         "3": "female",
         "4": 63,
         "5": 1,
         "6": 0,
         "7": 13502,
         "8": 77.9583,
         "9": "D7",
         "index": 7
        }
       ],
       "schema": {
        "fields": [
         {
          "name": "index",
          "type": "integer"
         },
         {
          "name": 0,
          "type": "string"
         },
         {
          "name": 1,
          "type": "string"
         },
         {
          "name": 2,
          "type": "string"
         },
         {
          "name": 3,
          "type": "string"
         },
         {
          "name": 4,
          "type": "string"
         },
         {
          "name": 5,
          "type": "string"
         },
         {
          "name": 6,
          "type": "string"
         },
         {
          "name": 7,
          "type": "string"
         },
         {
          "name": 8,
          "type": "string"
         },
         {
          "name": 9,
          "type": "string"
         },
         {
          "name": 10,
          "type": "string"
         },
         {
          "name": 11,
          "type": "string"
         },
         {
          "name": 12,
          "type": "string"
         },
         {
          "name": 13,
          "type": "string"
         }
        ],
        "pandas_version": "0.20.0",
        "primaryKey": [
         "index"
        ]
       }
      },
      "text/html": [
       "<div>\n",
       "<style scoped>\n",
       "    .dataframe tbody tr th:only-of-type {\n",
       "        vertical-align: middle;\n",
       "    }\n",
       "\n",
       "    .dataframe tbody tr th {\n",
       "        vertical-align: top;\n",
       "    }\n",
       "\n",
       "    .dataframe thead th {\n",
       "        text-align: right;\n",
       "    }\n",
       "</style>\n",
       "<table border=\"1\" class=\"dataframe\">\n",
       "  <thead>\n",
       "    <tr style=\"text-align: right;\">\n",
       "      <th></th>\n",
       "      <th>0</th>\n",
       "      <th>1</th>\n",
       "      <th>2</th>\n",
       "      <th>3</th>\n",
       "      <th>4</th>\n",
       "      <th>5</th>\n",
       "      <th>6</th>\n",
       "      <th>7</th>\n",
       "      <th>8</th>\n",
       "      <th>9</th>\n",
       "      <th>10</th>\n",
       "      <th>11</th>\n",
       "      <th>12</th>\n",
       "      <th>13</th>\n",
       "    </tr>\n",
       "  </thead>\n",
       "  <tbody>\n",
       "    <tr>\n",
       "      <th>0</th>\n",
       "      <td>pclass</td>\n",
       "      <td>survived</td>\n",
       "      <td>name</td>\n",
       "      <td>sex</td>\n",
       "      <td>age</td>\n",
       "      <td>sibsp</td>\n",
       "      <td>parch</td>\n",
       "      <td>ticket</td>\n",
       "      <td>fare</td>\n",
       "      <td>cabin</td>\n",
       "      <td>embarked</td>\n",
       "      <td>boat</td>\n",
       "      <td>body</td>\n",
       "      <td>home.dest</td>\n",
       "    </tr>\n",
       "    <tr>\n",
       "      <th>1</th>\n",
       "      <td>1</td>\n",
       "      <td>1</td>\n",
       "      <td>Allen, Miss. Elisabeth Walton</td>\n",
       "      <td>female</td>\n",
       "      <td>29</td>\n",
       "      <td>0</td>\n",
       "      <td>0</td>\n",
       "      <td>24160</td>\n",
       "      <td>211.338</td>\n",
       "      <td>B5</td>\n",
       "      <td>S</td>\n",
       "      <td>2</td>\n",
       "      <td>NaN</td>\n",
       "      <td>St Louis, MO</td>\n",
       "    </tr>\n",
       "    <tr>\n",
       "      <th>2</th>\n",
       "      <td>1</td>\n",
       "      <td>1</td>\n",
       "      <td>Allison, Master. Hudson Trevor</td>\n",
       "      <td>male</td>\n",
       "      <td>0.9167</td>\n",
       "      <td>1</td>\n",
       "      <td>2</td>\n",
       "      <td>113781</td>\n",
       "      <td>151.55</td>\n",
       "      <td>C22 C26</td>\n",
       "      <td>S</td>\n",
       "      <td>11</td>\n",
       "      <td>NaN</td>\n",
       "      <td>Montreal, PQ / Chesterville, ON</td>\n",
       "    </tr>\n",
       "    <tr>\n",
       "      <th>3</th>\n",
       "      <td>1</td>\n",
       "      <td>0</td>\n",
       "      <td>Allison, Miss. Helen Loraine</td>\n",
       "      <td>female</td>\n",
       "      <td>2</td>\n",
       "      <td>1</td>\n",
       "      <td>2</td>\n",
       "      <td>113781</td>\n",
       "      <td>151.55</td>\n",
       "      <td>C22 C26</td>\n",
       "      <td>S</td>\n",
       "      <td>NaN</td>\n",
       "      <td>NaN</td>\n",
       "      <td>Montreal, PQ / Chesterville, ON</td>\n",
       "    </tr>\n",
       "    <tr>\n",
       "      <th>...</th>\n",
       "      <td>...</td>\n",
       "      <td>...</td>\n",
       "      <td>...</td>\n",
       "      <td>...</td>\n",
       "      <td>...</td>\n",
       "      <td>...</td>\n",
       "      <td>...</td>\n",
       "      <td>...</td>\n",
       "      <td>...</td>\n",
       "      <td>...</td>\n",
       "      <td>...</td>\n",
       "      <td>...</td>\n",
       "      <td>...</td>\n",
       "      <td>...</td>\n",
       "    </tr>\n",
       "    <tr>\n",
       "      <th>1306</th>\n",
       "      <td>3</td>\n",
       "      <td>0</td>\n",
       "      <td>Zabour, Miss. Thamine</td>\n",
       "      <td>female</td>\n",
       "      <td>NaN</td>\n",
       "      <td>1</td>\n",
       "      <td>0</td>\n",
       "      <td>2665</td>\n",
       "      <td>14.4542</td>\n",
       "      <td>NaN</td>\n",
       "      <td>C</td>\n",
       "      <td>NaN</td>\n",
       "      <td>NaN</td>\n",
       "      <td>NaN</td>\n",
       "    </tr>\n",
       "    <tr>\n",
       "      <th>1307</th>\n",
       "      <td>3</td>\n",
       "      <td>0</td>\n",
       "      <td>Zakarian, Mr. Mapriededer</td>\n",
       "      <td>male</td>\n",
       "      <td>26.5</td>\n",
       "      <td>0</td>\n",
       "      <td>0</td>\n",
       "      <td>2656</td>\n",
       "      <td>7.225</td>\n",
       "      <td>NaN</td>\n",
       "      <td>C</td>\n",
       "      <td>NaN</td>\n",
       "      <td>304</td>\n",
       "      <td>NaN</td>\n",
       "    </tr>\n",
       "    <tr>\n",
       "      <th>1308</th>\n",
       "      <td>3</td>\n",
       "      <td>0</td>\n",
       "      <td>Zakarian, Mr. Ortin</td>\n",
       "      <td>male</td>\n",
       "      <td>27</td>\n",
       "      <td>0</td>\n",
       "      <td>0</td>\n",
       "      <td>2670</td>\n",
       "      <td>7.225</td>\n",
       "      <td>NaN</td>\n",
       "      <td>C</td>\n",
       "      <td>NaN</td>\n",
       "      <td>NaN</td>\n",
       "      <td>NaN</td>\n",
       "    </tr>\n",
       "    <tr>\n",
       "      <th>1309</th>\n",
       "      <td>3</td>\n",
       "      <td>0</td>\n",
       "      <td>Zimmerman, Mr. Leo</td>\n",
       "      <td>male</td>\n",
       "      <td>29</td>\n",
       "      <td>0</td>\n",
       "      <td>0</td>\n",
       "      <td>315082</td>\n",
       "      <td>7.875</td>\n",
       "      <td>NaN</td>\n",
       "      <td>S</td>\n",
       "      <td>NaN</td>\n",
       "      <td>NaN</td>\n",
       "      <td>NaN</td>\n",
       "    </tr>\n",
       "  </tbody>\n",
       "</table>\n",
       "<p>1310 rows × 14 columns</p>\n",
       "</div>"
      ],
      "text/plain": [
       "          0         1                               2       3       4      5   \\\n",
       "0     pclass  survived                            name     sex     age  sibsp   \n",
       "1          1         1   Allen, Miss. Elisabeth Walton  female      29      0   \n",
       "2          1         1  Allison, Master. Hudson Trevor    male  0.9167      1   \n",
       "3          1         0    Allison, Miss. Helen Loraine  female       2      1   \n",
       "...      ...       ...                             ...     ...     ...    ...   \n",
       "1306       3         0           Zabour, Miss. Thamine  female     NaN      1   \n",
       "1307       3         0       Zakarian, Mr. Mapriededer    male    26.5      0   \n",
       "1308       3         0             Zakarian, Mr. Ortin    male      27      0   \n",
       "1309       3         0              Zimmerman, Mr. Leo    male      29      0   \n",
       "\n",
       "         6       7        8        9         10    11    12  \\\n",
       "0     parch  ticket     fare    cabin  embarked  boat  body   \n",
       "1         0   24160  211.338       B5         S     2   NaN   \n",
       "2         2  113781   151.55  C22 C26         S    11   NaN   \n",
       "3         2  113781   151.55  C22 C26         S   NaN   NaN   \n",
       "...     ...     ...      ...      ...       ...   ...   ...   \n",
       "1306      0    2665  14.4542      NaN         C   NaN   NaN   \n",
       "1307      0    2656    7.225      NaN         C   NaN   304   \n",
       "1308      0    2670    7.225      NaN         C   NaN   NaN   \n",
       "1309      0  315082    7.875      NaN         S   NaN   NaN   \n",
       "\n",
       "                                   13  \n",
       "0                           home.dest  \n",
       "1                        St Louis, MO  \n",
       "2     Montreal, PQ / Chesterville, ON  \n",
       "3     Montreal, PQ / Chesterville, ON  \n",
       "...                               ...  \n",
       "1306                              NaN  \n",
       "1307                              NaN  \n",
       "1308                              NaN  \n",
       "1309                              NaN  \n",
       "\n",
       "[1310 rows x 14 columns]"
      ]
     },
     "metadata": {},
     "output_type": "display_data"
    }
   ],
   "source": [
    "display(t_df)"
   ]
  },
  {
   "cell_type": "code",
   "execution_count": 113,
   "metadata": {},
   "outputs": [],
   "source": [
    "df_titanic = t_df.loc[1:, :]"
   ]
  },
  {
   "cell_type": "code",
   "execution_count": 199,
   "metadata": {},
   "outputs": [],
   "source": [
    "def display_survival(_df_age_group, _age_type):\n",
    "    for sex in (\"male\", \"female\"):\n",
    "        df_sex = _df_age_group.groupby(by = 3).get_group(sex)\n",
    "        total_people = df_sex.shape[0]\n",
    "        print(\"*\" * 15, sex[0].upper() + sex[1:], _age_type, \"*\" * 15)\n",
    "        for pclass in (1, 2, 3):\n",
    "            try:\n",
    "                df_pclass = df_sex.groupby(by = 0).get_group(pclass)\n",
    "                total_survived = df_pclass[df_pclass.loc[:, 1] == 1].shape[0]\n",
    "                proportion_survived = total_survived / total_people\n",
    "                print(sex[0].upper() + sex[1:], _age_type, \"and pclass\", pclass,\n",
    "                      \"survival rate: {:.2%}\".format(proportion_survived))\n",
    "            except:\n",
    "                print(sex[0].upper() + sex[1:], _age_type, \"and pclass\", pclass,\n",
    "                      \"survival rate: data does not exist\")\n",
    "        print()"
   ]
  },
  {
   "cell_type": "markdown",
   "metadata": {},
   "source": [
    "# Child Survival Proportions"
   ]
  },
  {
   "cell_type": "code",
   "execution_count": 200,
   "metadata": {},
   "outputs": [
    {
     "name": "stdout",
     "output_type": "stream",
     "text": [
      "*************** Male child ***************\n",
      "Male child and pclass 1 survival rate: 9.43%\n",
      "Male child and pclass 2 survival rate: 20.75%\n",
      "Male child and pclass 3 survival rate: 22.64%\n",
      "\n",
      "*************** Female child ***************\n",
      "Female child and pclass 1 survival rate: 0.00%\n",
      "Female child and pclass 2 survival rate: 30.43%\n",
      "Female child and pclass 3 survival rate: 32.61%\n",
      "\n"
     ]
    }
   ],
   "source": [
    "display_survival(df_titanic[df_titanic.loc[:, 4] < 14], \"child\")"
   ]
  },
  {
   "cell_type": "markdown",
   "metadata": {},
   "source": [
    "# Adolescent Survival Proportions"
   ]
  },
  {
   "cell_type": "code",
   "execution_count": 201,
   "metadata": {},
   "outputs": [
    {
     "name": "stdout",
     "output_type": "stream",
     "text": [
      "*************** Male adolescent ***************\n",
      "Male adolescent and pclass 1 survival rate: 1.15%\n",
      "Male adolescent and pclass 2 survival rate: 2.30%\n",
      "Male adolescent and pclass 3 survival rate: 9.20%\n",
      "\n",
      "*************** Female adolescent ***************\n",
      "Female adolescent and pclass 1 survival rate: 23.81%\n",
      "Female adolescent and pclass 2 survival rate: 19.05%\n",
      "Female adolescent and pclass 3 survival rate: 30.16%\n",
      "\n"
     ]
    }
   ],
   "source": [
    "display_survival(pd.merge(df_titanic[df_titanic.loc[:, 4] >= 14],\n",
    "                         df_titanic[df_titanic.loc[:, 4] < 21],\n",
    "                         how = \"inner\"), \"adolescent\")"
   ]
  },
  {
   "cell_type": "markdown",
   "metadata": {},
   "source": [
    "# Adult Survival Proportions"
   ]
  },
  {
   "cell_type": "code",
   "execution_count": 202,
   "metadata": {},
   "outputs": [
    {
     "name": "stdout",
     "output_type": "stream",
     "text": [
      "*************** Male adult ***************\n",
      "Male adult and pclass 1 survival rate: 9.09%\n",
      "Male adult and pclass 2 survival rate: 1.98%\n",
      "Male adult and pclass 3 survival rate: 7.71%\n",
      "\n",
      "*************** Female adult ***************\n",
      "Female adult and pclass 1 survival rate: 40.29%\n",
      "Female adult and pclass 2 survival rate: 23.74%\n",
      "Female adult and pclass 3 survival rate: 13.67%\n",
      "\n"
     ]
    }
   ],
   "source": [
    "display_survival(pd.merge(df_titanic[df_titanic.loc[:, 4] >= 21],\n",
    "                   df_titanic[df_titanic.loc[:, 4] < 65],\n",
    "                   how = \"inner\"), \"adult\")"
   ]
  },
  {
   "cell_type": "markdown",
   "metadata": {},
   "source": [
    "# Senior Survival Proportions"
   ]
  },
  {
   "cell_type": "code",
   "execution_count": 203,
   "metadata": {
    "scrolled": true
   },
   "outputs": [
    {
     "name": "stdout",
     "output_type": "stream",
     "text": [
      "*************** Male senior ***************\n",
      "Male senior and pclass 1 survival rate: 8.33%\n",
      "Male senior and pclass 2 survival rate: 0.00%\n",
      "Male senior and pclass 3 survival rate: 0.00%\n",
      "\n",
      "*************** Female senior ***************\n",
      "Female senior and pclass 1 survival rate: 100.00%\n",
      "Female senior and pclass 2 survival rate: data does not exist\n",
      "Female senior and pclass 3 survival rate: data does not exist\n",
      "\n"
     ]
    }
   ],
   "source": [
    "display_survival(df_titanic[df_titanic.loc[:, 4] >= 65], \"senior\")"
   ]
  },
  {
   "cell_type": "code",
   "execution_count": null,
   "metadata": {},
   "outputs": [],
   "source": []
  }
 ],
 "metadata": {
  "kernelspec": {
   "display_name": "Python 3",
   "language": "python",
   "name": "python3"
  },
  "language_info": {
   "codemirror_mode": {
    "name": "ipython",
    "version": 3
   },
   "file_extension": ".py",
   "mimetype": "text/x-python",
   "name": "python",
   "nbconvert_exporter": "python",
   "pygments_lexer": "ipython3",
   "version": "3.8.6"
  }
 },
 "nbformat": 4,
 "nbformat_minor": 1
}
