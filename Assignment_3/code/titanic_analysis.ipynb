{
 "cells": [
  {
   "cell_type": "markdown",
   "metadata": {},
   "source": [
    "# Titanic Survival\n",
    "\n",
    "#### Grading:\n",
    "\n",
    "\n",
    "- Code: 90 pts\n",
    "- Markdown Documentation: 10 pts\n"
   ]
  },
  {
   "cell_type": "markdown",
   "metadata": {},
   "source": [
    "We are going to study the survival rate of passengers on titanic and what variables affected survival."
   ]
  },
  {
   "cell_type": "markdown",
   "metadata": {},
   "source": [
    "Load the dataset in `titanic.xls`. It contains data on all the passengers that travelled on the Titanic."
   ]
  },
  {
   "cell_type": "markdown",
   "metadata": {},
   "source": [
    "## Imports.\n"
   ]
  },
  {
   "cell_type": "code",
   "execution_count": 1,
   "metadata": {},
   "outputs": [],
   "source": [
    "import pandas as pd\n",
    "import matplotlib\n",
    "import matplotlib.pyplot as plt\n",
    "import numpy as np\n",
    "import scipy.stats as stats"
   ]
  },
  {
   "cell_type": "markdown",
   "metadata": {},
   "source": [
    "## Pandas Display Options."
   ]
  },
  {
   "cell_type": "code",
   "execution_count": 2,
   "metadata": {},
   "outputs": [],
   "source": [
    "# Telling pandas not convert to html tags.\n",
    "pd.set_option('display.html.table_schema', True)\n",
    "# Max columns and rows to display.\n",
    "pd.set_option('display.max_columns', 15)\n",
    "pd.set_option('display.max_rows', 8)"
   ]
  },
  {
   "cell_type": "code",
   "execution_count": 3,
   "metadata": {},
   "outputs": [],
   "source": [
    "from IPython.core.display import HTML\n",
    "#HTML(filename='../data/titanic.html')"
   ]
  },
  {
   "cell_type": "code",
   "execution_count": 4,
   "metadata": {},
   "outputs": [
    {
     "data": {
      "application/vnd.dataresource+json": {
       "data": [
        {
         "0": "pclass",
         "1": "survived",
         "10": "embarked",
         "11": "boat",
         "12": "body",
         "13": "home.dest",
         "2": "name",
         "3": "sex",
         "4": "age",
         "5": "sibsp",
         "6": "parch",
         "7": "ticket",
         "8": "fare",
         "9": "cabin",
         "index": 0
        },
        {
         "0": 1,
         "1": 1,
         "10": "S",
         "11": 2,
         "12": null,
         "13": "St Louis, MO",
         "2": "Allen, Miss. Elisabeth Walton",
         "3": "female",
         "4": 29,
         "5": 0,
         "6": 0,
         "7": 24160,
         "8": 211.3375,
         "9": "B5",
         "index": 1
        },
        {
         "0": 1,
         "1": 1,
         "10": "S",
         "11": "11",
         "12": null,
         "13": "Montreal, PQ / Chesterville, ON",
         "2": "Allison, Master. Hudson Trevor",
         "3": "male",
         "4": 0.9167,
         "5": 1,
         "6": 2,
         "7": 113781,
         "8": 151.55,
         "9": "C22 C26",
         "index": 2
        },
        {
         "0": 1,
         "1": 0,
         "10": "S",
         "11": null,
         "12": null,
         "13": "Montreal, PQ / Chesterville, ON",
         "2": "Allison, Miss. Helen Loraine",
         "3": "female",
         "4": 2,
         "5": 1,
         "6": 2,
         "7": 113781,
         "8": 151.55,
         "9": "C22 C26",
         "index": 3
        },
        {
         "0": 1,
         "1": 0,
         "10": "S",
         "11": null,
         "12": 135,
         "13": "Montreal, PQ / Chesterville, ON",
         "2": "Allison, Mr. Hudson Joshua Creighton",
         "3": "male",
         "4": 30,
         "5": 1,
         "6": 2,
         "7": 113781,
         "8": 151.55,
         "9": "C22 C26",
         "index": 4
        }
       ],
       "schema": {
        "fields": [
         {
          "name": "index",
          "type": "integer"
         },
         {
          "name": 0,
          "type": "string"
         },
         {
          "name": 1,
          "type": "string"
         },
         {
          "name": 2,
          "type": "string"
         },
         {
          "name": 3,
          "type": "string"
         },
         {
          "name": 4,
          "type": "string"
         },
         {
          "name": 5,
          "type": "string"
         },
         {
          "name": 6,
          "type": "string"
         },
         {
          "name": 7,
          "type": "string"
         },
         {
          "name": 8,
          "type": "string"
         },
         {
          "name": 9,
          "type": "string"
         },
         {
          "name": 10,
          "type": "string"
         },
         {
          "name": 11,
          "type": "string"
         },
         {
          "name": 12,
          "type": "string"
         },
         {
          "name": 13,
          "type": "string"
         }
        ],
        "pandas_version": "0.20.0",
        "primaryKey": [
         "index"
        ]
       }
      },
      "text/html": [
       "<div>\n",
       "<style scoped>\n",
       "    .dataframe tbody tr th:only-of-type {\n",
       "        vertical-align: middle;\n",
       "    }\n",
       "\n",
       "    .dataframe tbody tr th {\n",
       "        vertical-align: top;\n",
       "    }\n",
       "\n",
       "    .dataframe thead th {\n",
       "        text-align: right;\n",
       "    }\n",
       "</style>\n",
       "<table border=\"1\" class=\"dataframe\">\n",
       "  <thead>\n",
       "    <tr style=\"text-align: right;\">\n",
       "      <th></th>\n",
       "      <th>0</th>\n",
       "      <th>1</th>\n",
       "      <th>2</th>\n",
       "      <th>3</th>\n",
       "      <th>4</th>\n",
       "      <th>5</th>\n",
       "      <th>6</th>\n",
       "      <th>7</th>\n",
       "      <th>8</th>\n",
       "      <th>9</th>\n",
       "      <th>10</th>\n",
       "      <th>11</th>\n",
       "      <th>12</th>\n",
       "      <th>13</th>\n",
       "    </tr>\n",
       "  </thead>\n",
       "  <tbody>\n",
       "    <tr>\n",
       "      <th>0</th>\n",
       "      <td>pclass</td>\n",
       "      <td>survived</td>\n",
       "      <td>name</td>\n",
       "      <td>sex</td>\n",
       "      <td>age</td>\n",
       "      <td>sibsp</td>\n",
       "      <td>parch</td>\n",
       "      <td>ticket</td>\n",
       "      <td>fare</td>\n",
       "      <td>cabin</td>\n",
       "      <td>embarked</td>\n",
       "      <td>boat</td>\n",
       "      <td>body</td>\n",
       "      <td>home.dest</td>\n",
       "    </tr>\n",
       "    <tr>\n",
       "      <th>1</th>\n",
       "      <td>1</td>\n",
       "      <td>1</td>\n",
       "      <td>Allen, Miss. Elisabeth Walton</td>\n",
       "      <td>female</td>\n",
       "      <td>29</td>\n",
       "      <td>0</td>\n",
       "      <td>0</td>\n",
       "      <td>24160</td>\n",
       "      <td>211.338</td>\n",
       "      <td>B5</td>\n",
       "      <td>S</td>\n",
       "      <td>2</td>\n",
       "      <td>NaN</td>\n",
       "      <td>St Louis, MO</td>\n",
       "    </tr>\n",
       "    <tr>\n",
       "      <th>2</th>\n",
       "      <td>1</td>\n",
       "      <td>1</td>\n",
       "      <td>Allison, Master. Hudson Trevor</td>\n",
       "      <td>male</td>\n",
       "      <td>0.9167</td>\n",
       "      <td>1</td>\n",
       "      <td>2</td>\n",
       "      <td>113781</td>\n",
       "      <td>151.55</td>\n",
       "      <td>C22 C26</td>\n",
       "      <td>S</td>\n",
       "      <td>11</td>\n",
       "      <td>NaN</td>\n",
       "      <td>Montreal, PQ / Chesterville, ON</td>\n",
       "    </tr>\n",
       "    <tr>\n",
       "      <th>3</th>\n",
       "      <td>1</td>\n",
       "      <td>0</td>\n",
       "      <td>Allison, Miss. Helen Loraine</td>\n",
       "      <td>female</td>\n",
       "      <td>2</td>\n",
       "      <td>1</td>\n",
       "      <td>2</td>\n",
       "      <td>113781</td>\n",
       "      <td>151.55</td>\n",
       "      <td>C22 C26</td>\n",
       "      <td>S</td>\n",
       "      <td>NaN</td>\n",
       "      <td>NaN</td>\n",
       "      <td>Montreal, PQ / Chesterville, ON</td>\n",
       "    </tr>\n",
       "    <tr>\n",
       "      <th>4</th>\n",
       "      <td>1</td>\n",
       "      <td>0</td>\n",
       "      <td>Allison, Mr. Hudson Joshua Creighton</td>\n",
       "      <td>male</td>\n",
       "      <td>30</td>\n",
       "      <td>1</td>\n",
       "      <td>2</td>\n",
       "      <td>113781</td>\n",
       "      <td>151.55</td>\n",
       "      <td>C22 C26</td>\n",
       "      <td>S</td>\n",
       "      <td>NaN</td>\n",
       "      <td>135</td>\n",
       "      <td>Montreal, PQ / Chesterville, ON</td>\n",
       "    </tr>\n",
       "  </tbody>\n",
       "</table>\n",
       "</div>"
      ],
      "text/plain": [
       "       0         1                                     2       3       4   \\\n",
       "0  pclass  survived                                  name     sex     age   \n",
       "1       1         1         Allen, Miss. Elisabeth Walton  female      29   \n",
       "2       1         1        Allison, Master. Hudson Trevor    male  0.9167   \n",
       "3       1         0          Allison, Miss. Helen Loraine  female       2   \n",
       "4       1         0  Allison, Mr. Hudson Joshua Creighton    male      30   \n",
       "\n",
       "      5      6       7        8        9         10    11    12  \\\n",
       "0  sibsp  parch  ticket     fare    cabin  embarked  boat  body   \n",
       "1      0      0   24160  211.338       B5         S     2   NaN   \n",
       "2      1      2  113781   151.55  C22 C26         S    11   NaN   \n",
       "3      1      2  113781   151.55  C22 C26         S   NaN   NaN   \n",
       "4      1      2  113781   151.55  C22 C26         S   NaN   135   \n",
       "\n",
       "                                13  \n",
       "0                        home.dest  \n",
       "1                     St Louis, MO  \n",
       "2  Montreal, PQ / Chesterville, ON  \n",
       "3  Montreal, PQ / Chesterville, ON  \n",
       "4  Montreal, PQ / Chesterville, ON  "
      ]
     },
     "execution_count": 4,
     "metadata": {},
     "output_type": "execute_result"
    }
   ],
   "source": [
    "# you would need xlrd - pip install xlrd\n",
    "t_file = pd.ExcelFile('../data/titanic.xls')\n",
    "t_df = t_file.parse(\"titanic\", header=None)\n",
    "t_df.head()"
   ]
  },
  {
   "cell_type": "markdown",
   "metadata": {},
   "source": [
    "### Women and children first?\n",
    "\n",
    "*** 1. Use the `groupby` method to calculate the proportion of passengers that survived by sex. (10 pts)*** "
   ]
  },
  {
   "cell_type": "markdown",
   "metadata": {},
   "source": [
    "# Survival Rate by Gender"
   ]
  },
  {
   "cell_type": "code",
   "execution_count": 5,
   "metadata": {},
   "outputs": [],
   "source": [
    "# Trying to ensure we start with fresh data and that we are not corrupting that data.\n",
    "df_titanic = t_df.loc[1:, :]"
   ]
  },
  {
   "cell_type": "code",
   "execution_count": 6,
   "metadata": {
    "scrolled": true
   },
   "outputs": [
    {
     "name": "stdout",
     "output_type": "stream",
     "text": [
      "Male passenger survival rate: 19.10%\n",
      "Female passenger survival rate: 72.75%\n"
     ]
    }
   ],
   "source": [
    "# For loop to iterate over both female/male arguments.\n",
    "for gender in (\"male\", \"female\"):\n",
    "    # Group by iteration of gender.\n",
    "    df_gender = df_titanic.groupby(by = 3).get_group(gender)\n",
    "    # Get the number of rows for total sample size.\n",
    "    total_gender = df_gender.shape[0]\n",
    "    # Get the number of survivors from the sample.\n",
    "    total_survived = df_gender.groupby(by = 1).get_group(1).shape[0]\n",
    "    # Caclulate survival rate.\n",
    "    survival_rate = total_survived / total_gender\n",
    "    print(gender[0].upper()  + gender[1:], \"passenger survival rate: {:.2%}\".format(survival_rate))"
   ]
  },
  {
   "cell_type": "code",
   "execution_count": null,
   "metadata": {},
   "outputs": [],
   "source": []
  },
  {
   "cell_type": "code",
   "execution_count": null,
   "metadata": {},
   "outputs": [],
   "source": []
  },
  {
   "cell_type": "markdown",
   "metadata": {},
   "source": [
    "*** 2. Calculate the same proportion, but by class and sex. (10 pts)*** "
   ]
  },
  {
   "cell_type": "code",
   "execution_count": 7,
   "metadata": {},
   "outputs": [],
   "source": [
    "# Trying to ensure we start with fresh data and that we are not corrupting that data.\n",
    "df_titanic = t_df.loc[1:, :]"
   ]
  },
  {
   "cell_type": "markdown",
   "metadata": {},
   "source": [
    "# Method to Calculate Gender and Pclass Survival Rate."
   ]
  },
  {
   "cell_type": "code",
   "execution_count": 8,
   "metadata": {},
   "outputs": [],
   "source": [
    "# Method to calculate survival by pclass with some uniquely gendered subset.\n",
    "def dispaly_survival_2(_df_gender):\n",
    "    # Finding the gender type.\n",
    "    gender_type = _df_gender.iloc[:, 3].unique()[0]\n",
    "    # Finding the number of rows, i.e. the total size.\n",
    "    total_size = _df_gender.shape[0]\n",
    "    # Iterating over every pclass.\n",
    "    for pclass in (1, 2, 3):\n",
    "        # Getting number of cases of survival and dividing by the total set size.\n",
    "        survival_rate = _df_gender.groupby(by = 0).get_group(pclass)\\\n",
    "            .groupby(by = 1).get_group(1).shape[0] / total_size\n",
    "        print(\"{} and pclass {} survival rate : {:.2%}\"\\\n",
    "            .format(gender_type[0].upper() + gender_type[1:], pclass, survival_rate))"
   ]
  },
  {
   "cell_type": "markdown",
   "metadata": {},
   "source": [
    "# Survival Rate by Male and PClass"
   ]
  },
  {
   "cell_type": "code",
   "execution_count": 9,
   "metadata": {},
   "outputs": [
    {
     "name": "stdout",
     "output_type": "stream",
     "text": [
      "Male and pclass 1 survival rate : 7.24%\n",
      "Male and pclass 2 survival rate : 2.97%\n",
      "Male and pclass 3 survival rate : 8.90%\n"
     ]
    }
   ],
   "source": [
    "dispaly_survival_2(t_df.groupby(by = 3).get_group(\"male\"))"
   ]
  },
  {
   "cell_type": "markdown",
   "metadata": {},
   "source": [
    "# Survival Rate by Female and PClass"
   ]
  },
  {
   "cell_type": "code",
   "execution_count": 10,
   "metadata": {},
   "outputs": [
    {
     "name": "stdout",
     "output_type": "stream",
     "text": [
      "Female and pclass 1 survival rate : 29.83%\n",
      "Female and pclass 2 survival rate : 20.17%\n",
      "Female and pclass 3 survival rate : 22.75%\n"
     ]
    }
   ],
   "source": [
    "dispaly_survival_2(t_df.groupby(by = 3).get_group(\"female\"))"
   ]
  },
  {
   "cell_type": "code",
   "execution_count": null,
   "metadata": {},
   "outputs": [],
   "source": []
  },
  {
   "cell_type": "code",
   "execution_count": null,
   "metadata": {},
   "outputs": [],
   "source": []
  },
  {
   "cell_type": "markdown",
   "metadata": {},
   "source": [
    "*** 3. Create age categories: children (under 14 years), adolescents (14-20), adult (21-64), and senior(65+), and calculate survival proportions by age category, class and sex. (20 pts)***"
   ]
  },
  {
   "cell_type": "code",
   "execution_count": 11,
   "metadata": {},
   "outputs": [],
   "source": [
    "# Trying to ensure we start with fresh data and that we are not corrupting that data.\n",
    "df_titanic = t_df.loc[1:, :]"
   ]
  },
  {
   "cell_type": "markdown",
   "metadata": {},
   "source": [
    "# Method to Calculate Age, Gender, and Pclass Survival Rate."
   ]
  },
  {
   "cell_type": "code",
   "execution_count": 12,
   "metadata": {},
   "outputs": [],
   "source": [
    "# Takes as argument an aged subset of data and returns the survival rate for male/female and pclass.\n",
    "def display_survival_3(_df_age_group, _age_type):\n",
    "    # For male/female iterators.\n",
    "    for sex in (\"male\", \"female\"):\n",
    "        # Get gendered subset.\n",
    "        df_sex = _df_age_group.groupby(by = 3).get_group(sex)\n",
    "        # Calculate total subset size.\n",
    "        total_people = df_sex.shape[0]\n",
    "        # Separating the male/female portions of data with header.\n",
    "        print(\"*\" * 15, sex[0].upper() + sex[1:], _age_type, \"*\" * 15)\n",
    "        # For pclass iterators.\n",
    "        for pclass in (1, 2, 3):\n",
    "            # Try to calculate survival rate.\n",
    "            try:\n",
    "                # Group by the pclass and get current pclass iterator.\n",
    "                df_pclass = df_sex.groupby(by = 0).get_group(pclass)\n",
    "                # Get the total survived for this pclass.\n",
    "                total_survived = df_pclass[df_pclass.loc[:, 1] == 1].shape[0]\n",
    "                # Divide total survived by total gendered subset.\n",
    "                proportion_survived = total_survived / total_people\n",
    "                print(sex[0].upper() + sex[1:], _age_type, \"and pclass\", pclass,\n",
    "                      \"survival rate: {:.2%}\".format(proportion_survived))\n",
    "            # If no data, print data does not exist.\n",
    "            except:\n",
    "                print(sex[0].upper() + sex[1:], _age_type, \"and pclass\", pclass,\n",
    "                      \"survival rate: data does not exist\")\n",
    "        print()"
   ]
  },
  {
   "cell_type": "markdown",
   "metadata": {},
   "source": [
    "# Child Survival Proportions"
   ]
  },
  {
   "cell_type": "code",
   "execution_count": 13,
   "metadata": {},
   "outputs": [
    {
     "name": "stdout",
     "output_type": "stream",
     "text": [
      "*************** Male child ***************\n",
      "Male child and pclass 1 survival rate: 9.43%\n",
      "Male child and pclass 2 survival rate: 20.75%\n",
      "Male child and pclass 3 survival rate: 22.64%\n",
      "\n",
      "*************** Female child ***************\n",
      "Female child and pclass 1 survival rate: 0.00%\n",
      "Female child and pclass 2 survival rate: 30.43%\n",
      "Female child and pclass 3 survival rate: 32.61%\n",
      "\n"
     ]
    }
   ],
   "source": [
    "display_survival_3(df_titanic[df_titanic.loc[:, 4] < 14], \"child\")"
   ]
  },
  {
   "cell_type": "markdown",
   "metadata": {},
   "source": [
    "# Adolescent Survival Proportions"
   ]
  },
  {
   "cell_type": "code",
   "execution_count": 14,
   "metadata": {},
   "outputs": [
    {
     "name": "stdout",
     "output_type": "stream",
     "text": [
      "*************** Male adolescent ***************\n",
      "Male adolescent and pclass 1 survival rate: 1.15%\n",
      "Male adolescent and pclass 2 survival rate: 2.30%\n",
      "Male adolescent and pclass 3 survival rate: 9.20%\n",
      "\n",
      "*************** Female adolescent ***************\n",
      "Female adolescent and pclass 1 survival rate: 23.81%\n",
      "Female adolescent and pclass 2 survival rate: 19.05%\n",
      "Female adolescent and pclass 3 survival rate: 30.16%\n",
      "\n"
     ]
    }
   ],
   "source": [
    "display_survival_3(pd.merge(df_titanic[df_titanic.loc[:, 4] >= 14],\n",
    "                         df_titanic[df_titanic.loc[:, 4] < 21],\n",
    "                         how = \"inner\"), \"adolescent\")"
   ]
  },
  {
   "cell_type": "markdown",
   "metadata": {},
   "source": [
    "# Adult Survival Proportions"
   ]
  },
  {
   "cell_type": "code",
   "execution_count": 15,
   "metadata": {},
   "outputs": [
    {
     "name": "stdout",
     "output_type": "stream",
     "text": [
      "*************** Male adult ***************\n",
      "Male adult and pclass 1 survival rate: 9.09%\n",
      "Male adult and pclass 2 survival rate: 1.98%\n",
      "Male adult and pclass 3 survival rate: 7.71%\n",
      "\n",
      "*************** Female adult ***************\n",
      "Female adult and pclass 1 survival rate: 40.29%\n",
      "Female adult and pclass 2 survival rate: 23.74%\n",
      "Female adult and pclass 3 survival rate: 13.67%\n",
      "\n"
     ]
    }
   ],
   "source": [
    "display_survival_3(pd.merge(df_titanic[df_titanic.loc[:, 4] >= 21],\n",
    "                   df_titanic[df_titanic.loc[:, 4] < 65],\n",
    "                   how = \"inner\"), \"adult\")"
   ]
  },
  {
   "cell_type": "markdown",
   "metadata": {},
   "source": [
    "# Senior Survival Proportions"
   ]
  },
  {
   "cell_type": "code",
   "execution_count": 16,
   "metadata": {
    "scrolled": true
   },
   "outputs": [
    {
     "name": "stdout",
     "output_type": "stream",
     "text": [
      "*************** Male senior ***************\n",
      "Male senior and pclass 1 survival rate: 8.33%\n",
      "Male senior and pclass 2 survival rate: 0.00%\n",
      "Male senior and pclass 3 survival rate: 0.00%\n",
      "\n",
      "*************** Female senior ***************\n",
      "Female senior and pclass 1 survival rate: 100.00%\n",
      "Female senior and pclass 2 survival rate: data does not exist\n",
      "Female senior and pclass 3 survival rate: data does not exist\n",
      "\n"
     ]
    }
   ],
   "source": [
    "display_survival_3(df_titanic[df_titanic.loc[:, 4] >= 65], \"senior\")"
   ]
  },
  {
   "cell_type": "code",
   "execution_count": null,
   "metadata": {},
   "outputs": [],
   "source": []
  },
  {
   "cell_type": "code",
   "execution_count": null,
   "metadata": {},
   "outputs": [],
   "source": []
  }
 ],
 "metadata": {
  "kernelspec": {
   "display_name": "Python 3",
   "language": "python",
   "name": "python3"
  },
  "language_info": {
   "codemirror_mode": {
    "name": "ipython",
    "version": 3
   },
   "file_extension": ".py",
   "mimetype": "text/x-python",
   "name": "python",
   "nbconvert_exporter": "python",
   "pygments_lexer": "ipython3",
   "version": "3.8.6"
  }
 },
 "nbformat": 4,
 "nbformat_minor": 1
}
