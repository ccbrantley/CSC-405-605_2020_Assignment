{
 "cells": [
  {
   "cell_type": "markdown",
   "metadata": {},
   "source": [
    "# Assignment 2\n",
    "#### Dr. Mohanty\n",
    "#### Christopher Brantley\n",
    "#### CSC 405\n",
    "#### 10/08/2020\n",
    "##### *I, Christopher Brantley, have abided by the UNCG academic policy.*"
   ]
  },
  {
   "cell_type": "markdown",
   "metadata": {},
   "source": [
    "# Date Night Movie\n",
    "\n",
    "#### Grading:\n",
    "\n",
    "\n",
    "- Code: 90 pts\n",
    "- Markdown Documentation: 10 pts\n"
   ]
  },
  {
   "cell_type": "markdown",
   "metadata": {},
   "source": [
    "In this assignment we are going to use pandas to figure out - What's the best **date-night movie**?\n",
    "\n",
    "This assignment is going to use\n",
    "- Joining\n",
    "- Groupby\n",
    "- Sorting\n"
   ]
  },
  {
   "cell_type": "code",
   "execution_count": 748,
   "metadata": {},
   "outputs": [],
   "source": [
    "import os\n",
    "import pandas as pd"
   ]
  },
  {
   "cell_type": "markdown",
   "metadata": {},
   "source": [
    "##### Read in the movie data: `pd.read_table`"
   ]
  },
  {
   "cell_type": "code",
   "execution_count": 749,
   "metadata": {},
   "outputs": [],
   "source": [
    "def get_movie_data():\n",
    "    \n",
    "    unames = ['user_id','gender','age','occupation','zip']\n",
    "    users = pd.read_table(os.path.join('../data','users.dat'), \n",
    "                          sep='::', header=None, names=unames)\n",
    "    \n",
    "    rnames = ['user_id', 'movie_id', 'rating', 'timestamp']\n",
    "    ratings = pd.read_table(os.path.join('../data', 'ratings.dat'), \n",
    "                            sep='::', header=None, names=rnames)\n",
    "    \n",
    "    mnames = ['movie_id', 'title','genres']\n",
    "    movies = pd.read_table(os.path.join('../data', 'movies.dat'), \n",
    "                           sep='::', header=None, names=mnames)\n",
    "\n",
    "    return users, ratings, movies"
   ]
  },
  {
   "cell_type": "code",
   "execution_count": 750,
   "metadata": {},
   "outputs": [],
   "source": [
    "users, ratings, movies = get_movie_data()"
   ]
  },
  {
   "cell_type": "code",
   "execution_count": 751,
   "metadata": {},
   "outputs": [
    {
     "name": "stdout",
     "output_type": "stream",
     "text": [
      "   user_id gender  age  occupation    zip\n",
      "0        1      F    1          10  48067\n",
      "1        2      M   56          16  70072\n",
      "2        3      M   25          15  55117\n",
      "3        4      M   45           7  02460\n",
      "4        5      M   25          20  55455\n"
     ]
    }
   ],
   "source": [
    "print(users.head())"
   ]
  },
  {
   "cell_type": "code",
   "execution_count": 752,
   "metadata": {},
   "outputs": [
    {
     "name": "stdout",
     "output_type": "stream",
     "text": [
      "   user_id  movie_id  rating  timestamp\n",
      "0        1      1193       5  978300760\n",
      "1        1       661       3  978302109\n",
      "2        1       914       3  978301968\n",
      "3        1      3408       4  978300275\n",
      "4        1      2355       5  978824291\n"
     ]
    }
   ],
   "source": [
    "print(ratings.head())"
   ]
  },
  {
   "cell_type": "code",
   "execution_count": 753,
   "metadata": {},
   "outputs": [
    {
     "name": "stdout",
     "output_type": "stream",
     "text": [
      "   movie_id                               title                        genres\n",
      "0         1                    Toy Story (1995)   Animation|Children's|Comedy\n",
      "1         2                      Jumanji (1995)  Adventure|Children's|Fantasy\n",
      "2         3             Grumpier Old Men (1995)                Comedy|Romance\n",
      "3         4            Waiting to Exhale (1995)                  Comedy|Drama\n",
      "4         5  Father of the Bride Part II (1995)                        Comedy\n"
     ]
    }
   ],
   "source": [
    "print(movies.head())"
   ]
  },
  {
   "cell_type": "markdown",
   "metadata": {},
   "source": [
    "##### Clean up the `movies`\n",
    "\n",
    "- Get the `year`\n",
    "- Shorten the `title`\n"
   ]
  },
  {
   "cell_type": "code",
   "execution_count": 754,
   "metadata": {},
   "outputs": [
    {
     "data": {
      "text/plain": [
       "0    Toy Story\n",
       "1         1995\n",
       "dtype: object"
      ]
     },
     "execution_count": 754,
     "metadata": {},
     "output_type": "execute_result"
    }
   ],
   "source": [
    "tmp = movies.title.str.extract('(.*) \\(([0-9]+)\\)')\n",
    "tmp.apply(lambda x:x[0] if len(x) > 0 else None)\n",
    "tmp.apply(lambda x: x[0][:40] if len(x) > 0 else None)"
   ]
  },
  {
   "cell_type": "code",
   "execution_count": 755,
   "metadata": {},
   "outputs": [],
   "source": [
    "movies['year'] = tmp[1]\n",
    "movies['short_title'] = tmp[0]"
   ]
  },
  {
   "cell_type": "code",
   "execution_count": 756,
   "metadata": {},
   "outputs": [
    {
     "name": "stdout",
     "output_type": "stream",
     "text": [
      "   movie_id                               title                        genres  \\\n",
      "0         1                    Toy Story (1995)   Animation|Children's|Comedy   \n",
      "1         2                      Jumanji (1995)  Adventure|Children's|Fantasy   \n",
      "2         3             Grumpier Old Men (1995)                Comedy|Romance   \n",
      "3         4            Waiting to Exhale (1995)                  Comedy|Drama   \n",
      "4         5  Father of the Bride Part II (1995)                        Comedy   \n",
      "\n",
      "   year                  short_title  \n",
      "0  1995                    Toy Story  \n",
      "1  1995                      Jumanji  \n",
      "2  1995             Grumpier Old Men  \n",
      "3  1995            Waiting to Exhale  \n",
      "4  1995  Father of the Bride Part II  \n"
     ]
    }
   ],
   "source": [
    "print(movies.head())"
   ]
  },
  {
   "cell_type": "markdown",
   "metadata": {},
   "source": [
    "##### Join the tables with `pd.merge` (10 pts)"
   ]
  },
  {
   "cell_type": "markdown",
   "metadata": {},
   "source": [
    "# <font color = \"red\">I have highlighted headers in blue where I answer a specific question.</font>"
   ]
  },
  {
   "cell_type": "markdown",
   "metadata": {},
   "source": [
    "### Setting Panda Display Options"
   ]
  },
  {
   "cell_type": "code",
   "execution_count": 757,
   "metadata": {},
   "outputs": [],
   "source": [
    "# Setting Panda DataFrame display options.\n",
    "pd.set_option('notebook_repr_html', True)\n",
    "pd.set_option('max_columns', 8)\n",
    "pd.set_option('max_rows', 7)"
   ]
  },
  {
   "cell_type": "markdown",
   "metadata": {},
   "source": [
    "# <font color = \"blue\">Join</font>"
   ]
  },
  {
   "cell_type": "code",
   "execution_count": 758,
   "metadata": {},
   "outputs": [
    {
     "data": {
      "text/html": [
       "<div>\n",
       "<style scoped>\n",
       "    .dataframe tbody tr th:only-of-type {\n",
       "        vertical-align: middle;\n",
       "    }\n",
       "\n",
       "    .dataframe tbody tr th {\n",
       "        vertical-align: top;\n",
       "    }\n",
       "\n",
       "    .dataframe thead th {\n",
       "        text-align: right;\n",
       "    }\n",
       "</style>\n",
       "<table border=\"1\" class=\"dataframe\">\n",
       "  <thead>\n",
       "    <tr style=\"text-align: right;\">\n",
       "      <th></th>\n",
       "      <th>user_id</th>\n",
       "      <th>gender</th>\n",
       "      <th>age</th>\n",
       "      <th>occupation</th>\n",
       "      <th>...</th>\n",
       "      <th>title</th>\n",
       "      <th>genres</th>\n",
       "      <th>year</th>\n",
       "      <th>short_title</th>\n",
       "    </tr>\n",
       "  </thead>\n",
       "  <tbody>\n",
       "    <tr>\n",
       "      <th>0</th>\n",
       "      <td>1</td>\n",
       "      <td>F</td>\n",
       "      <td>1</td>\n",
       "      <td>10</td>\n",
       "      <td>...</td>\n",
       "      <td>One Flew Over the Cuckoo's Nest (1975)</td>\n",
       "      <td>Drama</td>\n",
       "      <td>1975</td>\n",
       "      <td>One Flew Over the Cuckoo's Nest</td>\n",
       "    </tr>\n",
       "    <tr>\n",
       "      <th>1</th>\n",
       "      <td>2</td>\n",
       "      <td>M</td>\n",
       "      <td>56</td>\n",
       "      <td>16</td>\n",
       "      <td>...</td>\n",
       "      <td>One Flew Over the Cuckoo's Nest (1975)</td>\n",
       "      <td>Drama</td>\n",
       "      <td>1975</td>\n",
       "      <td>One Flew Over the Cuckoo's Nest</td>\n",
       "    </tr>\n",
       "    <tr>\n",
       "      <th>2</th>\n",
       "      <td>12</td>\n",
       "      <td>M</td>\n",
       "      <td>25</td>\n",
       "      <td>12</td>\n",
       "      <td>...</td>\n",
       "      <td>One Flew Over the Cuckoo's Nest (1975)</td>\n",
       "      <td>Drama</td>\n",
       "      <td>1975</td>\n",
       "      <td>One Flew Over the Cuckoo's Nest</td>\n",
       "    </tr>\n",
       "    <tr>\n",
       "      <th>...</th>\n",
       "      <td>...</td>\n",
       "      <td>...</td>\n",
       "      <td>...</td>\n",
       "      <td>...</td>\n",
       "      <td>...</td>\n",
       "      <td>...</td>\n",
       "      <td>...</td>\n",
       "      <td>...</td>\n",
       "      <td>...</td>\n",
       "    </tr>\n",
       "    <tr>\n",
       "      <th>1000206</th>\n",
       "      <td>5780</td>\n",
       "      <td>M</td>\n",
       "      <td>18</td>\n",
       "      <td>17</td>\n",
       "      <td>...</td>\n",
       "      <td>White Boys (1999)</td>\n",
       "      <td>Drama</td>\n",
       "      <td>1999</td>\n",
       "      <td>White Boys</td>\n",
       "    </tr>\n",
       "    <tr>\n",
       "      <th>1000207</th>\n",
       "      <td>5851</td>\n",
       "      <td>F</td>\n",
       "      <td>18</td>\n",
       "      <td>20</td>\n",
       "      <td>...</td>\n",
       "      <td>One Little Indian (1973)</td>\n",
       "      <td>Comedy|Drama|Western</td>\n",
       "      <td>1973</td>\n",
       "      <td>One Little Indian</td>\n",
       "    </tr>\n",
       "    <tr>\n",
       "      <th>1000208</th>\n",
       "      <td>5938</td>\n",
       "      <td>M</td>\n",
       "      <td>25</td>\n",
       "      <td>1</td>\n",
       "      <td>...</td>\n",
       "      <td>Five Wives, Three Secretaries and Me (1998)</td>\n",
       "      <td>Documentary</td>\n",
       "      <td>1998</td>\n",
       "      <td>Five Wives, Three Secretaries and Me</td>\n",
       "    </tr>\n",
       "  </tbody>\n",
       "</table>\n",
       "<p>1000209 rows × 12 columns</p>\n",
       "</div>"
      ],
      "text/plain": [
       "         user_id gender  age  occupation  ...  \\\n",
       "0              1      F    1          10  ...   \n",
       "1              2      M   56          16  ...   \n",
       "2             12      M   25          12  ...   \n",
       "...          ...    ...  ...         ...  ...   \n",
       "1000206     5780      M   18          17  ...   \n",
       "1000207     5851      F   18          20  ...   \n",
       "1000208     5938      M   25           1  ...   \n",
       "\n",
       "                                               title                genres  \\\n",
       "0             One Flew Over the Cuckoo's Nest (1975)                 Drama   \n",
       "1             One Flew Over the Cuckoo's Nest (1975)                 Drama   \n",
       "2             One Flew Over the Cuckoo's Nest (1975)                 Drama   \n",
       "...                                              ...                   ...   \n",
       "1000206                            White Boys (1999)                 Drama   \n",
       "1000207                     One Little Indian (1973)  Comedy|Drama|Western   \n",
       "1000208  Five Wives, Three Secretaries and Me (1998)           Documentary   \n",
       "\n",
       "         year                           short_title  \n",
       "0        1975       One Flew Over the Cuckoo's Nest  \n",
       "1        1975       One Flew Over the Cuckoo's Nest  \n",
       "2        1975       One Flew Over the Cuckoo's Nest  \n",
       "...       ...                                   ...  \n",
       "1000206  1999                            White Boys  \n",
       "1000207  1973                     One Little Indian  \n",
       "1000208  1998  Five Wives, Three Secretaries and Me  \n",
       "\n",
       "[1000209 rows x 12 columns]"
      ]
     },
     "execution_count": 758,
     "metadata": {},
     "output_type": "execute_result"
    }
   ],
   "source": [
    "import numpy as np\n",
    "# Merging users and ratings on user_id.\n",
    "df_user_rating = pd.merge(users, ratings, how = \"inner\", on = \"user_id\")\n",
    "# Merging prior merged DataFrame with movies on movie_id.\n",
    "df_user_rating_movie = pd.merge(df_user_rating, movies, how = \"inner\",\\\n",
    "                                 on = \"movie_id\")\n",
    "df_user_rating_movie"
   ]
  },
  {
   "cell_type": "markdown",
   "metadata": {},
   "source": [
    "##### What's the highest rated movie? (10 pts))"
   ]
  },
  {
   "cell_type": "markdown",
   "metadata": {},
   "source": [
    "# Streamlining our Movie Rating Process"
   ]
  },
  {
   "cell_type": "code",
   "execution_count": 759,
   "metadata": {},
   "outputs": [],
   "source": [
    "# We can pass some subset of the merged dataframe here.\n",
    "# The sensitivity is to allow for broader range of comparison.\n",
    "# Sensitivity affects which values below the highest scorer are included.\n",
    "def merged_df_to_highest_rated(_df_user_subset, _sensitivity):\n",
    "    # Creating a new dataframe to hold the calculations on movie ratings.\n",
    "    df_mean_rating = pd.DataFrame(columns = [\"movie_id\", \"mean_rating\", \"rating_count\",\\\n",
    "                                             \"count_weight\", \"weighted\"])\n",
    "    # Removing indexing, allowing movie_id to be the index.\n",
    "    df_mean_rating.set_index(\"movie_id\", inplace = True)\n",
    "    # Iterating over all grouped movie ids.\n",
    "    for x in _df_user_subset.groupby(by = \"movie_id\"):\n",
    "        # We calculate the mean rating, we store the count of ratings, we normalize the rating count.\n",
    "        # The last attribute stored represents the weighted calculation, the normalized count * rating.\n",
    "        df_mean_rating.loc[x[0]] = [x[1].rating.mean(), x[1].rating.count(),\\\n",
    "                                    np.log2(x[1].rating.count()), x[1].rating.mean()\\\n",
    "                                    * np.log2(x[1].rating.count())]\n",
    "    # Finding the top rated movie and movies with ratings below sensitivity, default 1.\n",
    "    df_top_rated = df_mean_rating[df_mean_rating.weighted >= df_mean_rating.weighted.max() - 1 -_sensitivity]\n",
    "    # Retrieving the index for movie with highest weight.\n",
    "    top_rated_movie_index = df_top_rated[df_top_rated.weighted == df_top_rated.weighted.max()].index.values[0]\n",
    "    return df_top_rated, top_rated_movie_index\n",
    "    "
   ]
  },
  {
   "cell_type": "markdown",
   "metadata": {},
   "source": [
    "### Calculations for Highly Rated  Movies"
   ]
  },
  {
   "cell_type": "code",
   "execution_count": 760,
   "metadata": {},
   "outputs": [
    {
     "data": {
      "text/html": [
       "<div>\n",
       "<style scoped>\n",
       "    .dataframe tbody tr th:only-of-type {\n",
       "        vertical-align: middle;\n",
       "    }\n",
       "\n",
       "    .dataframe tbody tr th {\n",
       "        vertical-align: top;\n",
       "    }\n",
       "\n",
       "    .dataframe thead th {\n",
       "        text-align: right;\n",
       "    }\n",
       "</style>\n",
       "<table border=\"1\" class=\"dataframe\">\n",
       "  <thead>\n",
       "    <tr style=\"text-align: right;\">\n",
       "      <th></th>\n",
       "      <th>mean_rating</th>\n",
       "      <th>rating_count</th>\n",
       "      <th>count_weight</th>\n",
       "      <th>weighted</th>\n",
       "    </tr>\n",
       "    <tr>\n",
       "      <th>movie_id</th>\n",
       "      <th></th>\n",
       "      <th></th>\n",
       "      <th></th>\n",
       "      <th></th>\n",
       "    </tr>\n",
       "  </thead>\n",
       "  <tbody>\n",
       "    <tr>\n",
       "      <th>260</th>\n",
       "      <td>4.453694</td>\n",
       "      <td>2991.0</td>\n",
       "      <td>11.546412</td>\n",
       "      <td>51.424192</td>\n",
       "    </tr>\n",
       "    <tr>\n",
       "      <th>318</th>\n",
       "      <td>4.554558</td>\n",
       "      <td>2227.0</td>\n",
       "      <td>11.120886</td>\n",
       "      <td>50.650716</td>\n",
       "    </tr>\n",
       "    <tr>\n",
       "      <th>1198</th>\n",
       "      <td>4.477725</td>\n",
       "      <td>2514.0</td>\n",
       "      <td>11.295769</td>\n",
       "      <td>50.579344</td>\n",
       "    </tr>\n",
       "    <tr>\n",
       "      <th>2858</th>\n",
       "      <td>4.317386</td>\n",
       "      <td>3428.0</td>\n",
       "      <td>11.743151</td>\n",
       "      <td>50.699720</td>\n",
       "    </tr>\n",
       "  </tbody>\n",
       "</table>\n",
       "</div>"
      ],
      "text/plain": [
       "          mean_rating  rating_count  count_weight   weighted\n",
       "movie_id                                                    \n",
       "260          4.453694        2991.0     11.546412  51.424192\n",
       "318          4.554558        2227.0     11.120886  50.650716\n",
       "1198         4.477725        2514.0     11.295769  50.579344\n",
       "2858         4.317386        3428.0     11.743151  50.699720"
      ]
     },
     "execution_count": 760,
     "metadata": {},
     "output_type": "execute_result"
    }
   ],
   "source": [
    "df_top_rated, top_rated_movie_index = merged_df_to_highest_rated(df_user_rating_movie, 0)\n",
    "df_mean_rating"
   ]
  },
  {
   "cell_type": "markdown",
   "metadata": {},
   "source": [
    "### Top Rated Movies"
   ]
  },
  {
   "cell_type": "code",
   "execution_count": 761,
   "metadata": {},
   "outputs": [
    {
     "data": {
      "text/html": [
       "<div>\n",
       "<style scoped>\n",
       "    .dataframe tbody tr th:only-of-type {\n",
       "        vertical-align: middle;\n",
       "    }\n",
       "\n",
       "    .dataframe tbody tr th {\n",
       "        vertical-align: top;\n",
       "    }\n",
       "\n",
       "    .dataframe thead th {\n",
       "        text-align: right;\n",
       "    }\n",
       "</style>\n",
       "<table border=\"1\" class=\"dataframe\">\n",
       "  <thead>\n",
       "    <tr style=\"text-align: right;\">\n",
       "      <th></th>\n",
       "      <th>movie_id</th>\n",
       "      <th>title</th>\n",
       "      <th>genres</th>\n",
       "      <th>year</th>\n",
       "      <th>short_title</th>\n",
       "    </tr>\n",
       "  </thead>\n",
       "  <tbody>\n",
       "    <tr>\n",
       "      <th>257</th>\n",
       "      <td>260</td>\n",
       "      <td>Star Wars: Episode IV - A New Hope (1977)</td>\n",
       "      <td>Action|Adventure|Fantasy|Sci-Fi</td>\n",
       "      <td>1977</td>\n",
       "      <td>Star Wars: Episode IV - A New Hope</td>\n",
       "    </tr>\n",
       "    <tr>\n",
       "      <th>315</th>\n",
       "      <td>318</td>\n",
       "      <td>Shawshank Redemption, The (1994)</td>\n",
       "      <td>Drama</td>\n",
       "      <td>1994</td>\n",
       "      <td>Shawshank Redemption, The</td>\n",
       "    </tr>\n",
       "    <tr>\n",
       "      <th>1180</th>\n",
       "      <td>1198</td>\n",
       "      <td>Raiders of the Lost Ark (1981)</td>\n",
       "      <td>Action|Adventure</td>\n",
       "      <td>1981</td>\n",
       "      <td>Raiders of the Lost Ark</td>\n",
       "    </tr>\n",
       "    <tr>\n",
       "      <th>2789</th>\n",
       "      <td>2858</td>\n",
       "      <td>American Beauty (1999)</td>\n",
       "      <td>Comedy|Drama</td>\n",
       "      <td>1999</td>\n",
       "      <td>American Beauty</td>\n",
       "    </tr>\n",
       "  </tbody>\n",
       "</table>\n",
       "</div>"
      ],
      "text/plain": [
       "      movie_id                                      title  \\\n",
       "257        260  Star Wars: Episode IV - A New Hope (1977)   \n",
       "315        318           Shawshank Redemption, The (1994)   \n",
       "1180      1198             Raiders of the Lost Ark (1981)   \n",
       "2789      2858                     American Beauty (1999)   \n",
       "\n",
       "                               genres  year  \\\n",
       "257   Action|Adventure|Fantasy|Sci-Fi  1977   \n",
       "315                             Drama  1994   \n",
       "1180                 Action|Adventure  1981   \n",
       "2789                     Comedy|Drama  1999   \n",
       "\n",
       "                             short_title  \n",
       "257   Star Wars: Episode IV - A New Hope  \n",
       "315            Shawshank Redemption, The  \n",
       "1180             Raiders of the Lost Ark  \n",
       "2789                     American Beauty  "
      ]
     },
     "execution_count": 761,
     "metadata": {},
     "output_type": "execute_result"
    }
   ],
   "source": [
    "movies[movies.movie_id.isin(list(df_top_rated.index.values))]"
   ]
  },
  {
   "cell_type": "markdown",
   "metadata": {},
   "source": [
    "# <font color = \"blue\">Highest Rated Movie</font>"
   ]
  },
  {
   "cell_type": "code",
   "execution_count": 762,
   "metadata": {},
   "outputs": [
    {
     "data": {
      "text/html": [
       "<div>\n",
       "<style scoped>\n",
       "    .dataframe tbody tr th:only-of-type {\n",
       "        vertical-align: middle;\n",
       "    }\n",
       "\n",
       "    .dataframe tbody tr th {\n",
       "        vertical-align: top;\n",
       "    }\n",
       "\n",
       "    .dataframe thead th {\n",
       "        text-align: right;\n",
       "    }\n",
       "</style>\n",
       "<table border=\"1\" class=\"dataframe\">\n",
       "  <thead>\n",
       "    <tr style=\"text-align: right;\">\n",
       "      <th></th>\n",
       "      <th>movie_id</th>\n",
       "      <th>title</th>\n",
       "      <th>genres</th>\n",
       "      <th>year</th>\n",
       "      <th>short_title</th>\n",
       "    </tr>\n",
       "  </thead>\n",
       "  <tbody>\n",
       "    <tr>\n",
       "      <th>257</th>\n",
       "      <td>260</td>\n",
       "      <td>Star Wars: Episode IV - A New Hope (1977)</td>\n",
       "      <td>Action|Adventure|Fantasy|Sci-Fi</td>\n",
       "      <td>1977</td>\n",
       "      <td>Star Wars: Episode IV - A New Hope</td>\n",
       "    </tr>\n",
       "  </tbody>\n",
       "</table>\n",
       "</div>"
      ],
      "text/plain": [
       "     movie_id                                      title  \\\n",
       "257       260  Star Wars: Episode IV - A New Hope (1977)   \n",
       "\n",
       "                              genres  year                         short_title  \n",
       "257  Action|Adventure|Fantasy|Sci-Fi  1977  Star Wars: Episode IV - A New Hope  "
      ]
     },
     "execution_count": 762,
     "metadata": {},
     "output_type": "execute_result"
    }
   ],
   "source": [
    "movies[movies.movie_id == top_rated_movie_index]"
   ]
  },
  {
   "cell_type": "markdown",
   "metadata": {},
   "source": [
    "###### What is a good rated movie for date night? (30 pts)\n",
    "\n",
    "- Hint - highly rated movie by \n",
    "    - both partners (might be the same gender or not),\n",
    "    - based on genre preferences,\n",
    "    - age group can also be combined"
   ]
  },
  {
   "cell_type": "markdown",
   "metadata": {},
   "source": [
    "### Calculations for Highly Rated  Movies by Females"
   ]
  },
  {
   "cell_type": "code",
   "execution_count": 763,
   "metadata": {},
   "outputs": [
    {
     "data": {
      "text/html": [
       "<div>\n",
       "<style scoped>\n",
       "    .dataframe tbody tr th:only-of-type {\n",
       "        vertical-align: middle;\n",
       "    }\n",
       "\n",
       "    .dataframe tbody tr th {\n",
       "        vertical-align: top;\n",
       "    }\n",
       "\n",
       "    .dataframe thead th {\n",
       "        text-align: right;\n",
       "    }\n",
       "</style>\n",
       "<table border=\"1\" class=\"dataframe\">\n",
       "  <thead>\n",
       "    <tr style=\"text-align: right;\">\n",
       "      <th></th>\n",
       "      <th>mean_rating</th>\n",
       "      <th>rating_count</th>\n",
       "      <th>count_weight</th>\n",
       "      <th>weighted</th>\n",
       "    </tr>\n",
       "    <tr>\n",
       "      <th>movie_id</th>\n",
       "      <th></th>\n",
       "      <th></th>\n",
       "      <th></th>\n",
       "      <th></th>\n",
       "    </tr>\n",
       "  </thead>\n",
       "  <tbody>\n",
       "    <tr>\n",
       "      <th>318</th>\n",
       "      <td>4.539075</td>\n",
       "      <td>627.0</td>\n",
       "      <td>9.292322</td>\n",
       "      <td>42.178544</td>\n",
       "    </tr>\n",
       "    <tr>\n",
       "      <th>527</th>\n",
       "      <td>4.562602</td>\n",
       "      <td>615.0</td>\n",
       "      <td>9.264443</td>\n",
       "      <td>42.269961</td>\n",
       "    </tr>\n",
       "    <tr>\n",
       "      <th>593</th>\n",
       "      <td>4.271955</td>\n",
       "      <td>706.0</td>\n",
       "      <td>9.463524</td>\n",
       "      <td>40.427747</td>\n",
       "    </tr>\n",
       "    <tr>\n",
       "      <th>1197</th>\n",
       "      <td>4.342767</td>\n",
       "      <td>636.0</td>\n",
       "      <td>9.312883</td>\n",
       "      <td>40.443684</td>\n",
       "    </tr>\n",
       "    <tr>\n",
       "      <th>2396</th>\n",
       "      <td>4.181704</td>\n",
       "      <td>798.0</td>\n",
       "      <td>9.640245</td>\n",
       "      <td>40.312653</td>\n",
       "    </tr>\n",
       "    <tr>\n",
       "      <th>2762</th>\n",
       "      <td>4.477410</td>\n",
       "      <td>664.0</td>\n",
       "      <td>9.375039</td>\n",
       "      <td>41.975892</td>\n",
       "    </tr>\n",
       "    <tr>\n",
       "      <th>2858</th>\n",
       "      <td>4.238901</td>\n",
       "      <td>946.0</td>\n",
       "      <td>9.885696</td>\n",
       "      <td>41.904485</td>\n",
       "    </tr>\n",
       "  </tbody>\n",
       "</table>\n",
       "</div>"
      ],
      "text/plain": [
       "          mean_rating  rating_count  count_weight   weighted\n",
       "movie_id                                                    \n",
       "318          4.539075         627.0      9.292322  42.178544\n",
       "527          4.562602         615.0      9.264443  42.269961\n",
       "593          4.271955         706.0      9.463524  40.427747\n",
       "1197         4.342767         636.0      9.312883  40.443684\n",
       "2396         4.181704         798.0      9.640245  40.312653\n",
       "2762         4.477410         664.0      9.375039  41.975892\n",
       "2858         4.238901         946.0      9.885696  41.904485"
      ]
     },
     "execution_count": 763,
     "metadata": {},
     "output_type": "execute_result"
    }
   ],
   "source": [
    "# Getting all tuples with female as Gender.\n",
    "df_female_user = df_user_rating_movie.groupby(\"gender\").get_group(\"F\")\n",
    "# Calling streamlined process.\n",
    "df_female_top_rated, top_rated_female_movie_index = merged_df_to_highest_rated(df_female_user, 1)\n",
    "df_female_top_rated"
   ]
  },
  {
   "cell_type": "markdown",
   "metadata": {},
   "source": [
    "### Movies Highly Rated by Females"
   ]
  },
  {
   "cell_type": "code",
   "execution_count": 764,
   "metadata": {},
   "outputs": [
    {
     "data": {
      "text/html": [
       "<div>\n",
       "<style scoped>\n",
       "    .dataframe tbody tr th:only-of-type {\n",
       "        vertical-align: middle;\n",
       "    }\n",
       "\n",
       "    .dataframe tbody tr th {\n",
       "        vertical-align: top;\n",
       "    }\n",
       "\n",
       "    .dataframe thead th {\n",
       "        text-align: right;\n",
       "    }\n",
       "</style>\n",
       "<table border=\"1\" class=\"dataframe\">\n",
       "  <thead>\n",
       "    <tr style=\"text-align: right;\">\n",
       "      <th></th>\n",
       "      <th>movie_id</th>\n",
       "      <th>title</th>\n",
       "      <th>genres</th>\n",
       "      <th>year</th>\n",
       "      <th>short_title</th>\n",
       "    </tr>\n",
       "  </thead>\n",
       "  <tbody>\n",
       "    <tr>\n",
       "      <th>315</th>\n",
       "      <td>318</td>\n",
       "      <td>Shawshank Redemption, The (1994)</td>\n",
       "      <td>Drama</td>\n",
       "      <td>1994</td>\n",
       "      <td>Shawshank Redemption, The</td>\n",
       "    </tr>\n",
       "    <tr>\n",
       "      <th>523</th>\n",
       "      <td>527</td>\n",
       "      <td>Schindler's List (1993)</td>\n",
       "      <td>Drama|War</td>\n",
       "      <td>1993</td>\n",
       "      <td>Schindler's List</td>\n",
       "    </tr>\n",
       "    <tr>\n",
       "      <th>589</th>\n",
       "      <td>593</td>\n",
       "      <td>Silence of the Lambs, The (1991)</td>\n",
       "      <td>Drama|Thriller</td>\n",
       "      <td>1991</td>\n",
       "      <td>Silence of the Lambs, The</td>\n",
       "    </tr>\n",
       "    <tr>\n",
       "      <th>1179</th>\n",
       "      <td>1197</td>\n",
       "      <td>Princess Bride, The (1987)</td>\n",
       "      <td>Action|Adventure|Comedy|Romance</td>\n",
       "      <td>1987</td>\n",
       "      <td>Princess Bride, The</td>\n",
       "    </tr>\n",
       "    <tr>\n",
       "      <th>2327</th>\n",
       "      <td>2396</td>\n",
       "      <td>Shakespeare in Love (1998)</td>\n",
       "      <td>Comedy|Romance</td>\n",
       "      <td>1998</td>\n",
       "      <td>Shakespeare in Love</td>\n",
       "    </tr>\n",
       "    <tr>\n",
       "      <th>2693</th>\n",
       "      <td>2762</td>\n",
       "      <td>Sixth Sense, The (1999)</td>\n",
       "      <td>Thriller</td>\n",
       "      <td>1999</td>\n",
       "      <td>Sixth Sense, The</td>\n",
       "    </tr>\n",
       "    <tr>\n",
       "      <th>2789</th>\n",
       "      <td>2858</td>\n",
       "      <td>American Beauty (1999)</td>\n",
       "      <td>Comedy|Drama</td>\n",
       "      <td>1999</td>\n",
       "      <td>American Beauty</td>\n",
       "    </tr>\n",
       "  </tbody>\n",
       "</table>\n",
       "</div>"
      ],
      "text/plain": [
       "      movie_id                             title  \\\n",
       "315        318  Shawshank Redemption, The (1994)   \n",
       "523        527           Schindler's List (1993)   \n",
       "589        593  Silence of the Lambs, The (1991)   \n",
       "1179      1197        Princess Bride, The (1987)   \n",
       "2327      2396        Shakespeare in Love (1998)   \n",
       "2693      2762           Sixth Sense, The (1999)   \n",
       "2789      2858            American Beauty (1999)   \n",
       "\n",
       "                               genres  year                short_title  \n",
       "315                             Drama  1994  Shawshank Redemption, The  \n",
       "523                         Drama|War  1993           Schindler's List  \n",
       "589                    Drama|Thriller  1991  Silence of the Lambs, The  \n",
       "1179  Action|Adventure|Comedy|Romance  1987        Princess Bride, The  \n",
       "2327                   Comedy|Romance  1998        Shakespeare in Love  \n",
       "2693                         Thriller  1999           Sixth Sense, The  \n",
       "2789                     Comedy|Drama  1999            American Beauty  "
      ]
     },
     "execution_count": 764,
     "metadata": {},
     "output_type": "execute_result"
    }
   ],
   "source": [
    "movies[movies.movie_id.isin(list(df_female_top_rated.index.values))]"
   ]
  },
  {
   "cell_type": "markdown",
   "metadata": {},
   "source": [
    "# Date Night Recommendation for F/F Date Night (Top Choice for F)"
   ]
  },
  {
   "cell_type": "code",
   "execution_count": 765,
   "metadata": {},
   "outputs": [
    {
     "data": {
      "text/html": [
       "<div>\n",
       "<style scoped>\n",
       "    .dataframe tbody tr th:only-of-type {\n",
       "        vertical-align: middle;\n",
       "    }\n",
       "\n",
       "    .dataframe tbody tr th {\n",
       "        vertical-align: top;\n",
       "    }\n",
       "\n",
       "    .dataframe thead th {\n",
       "        text-align: right;\n",
       "    }\n",
       "</style>\n",
       "<table border=\"1\" class=\"dataframe\">\n",
       "  <thead>\n",
       "    <tr style=\"text-align: right;\">\n",
       "      <th></th>\n",
       "      <th>movie_id</th>\n",
       "      <th>title</th>\n",
       "      <th>genres</th>\n",
       "      <th>year</th>\n",
       "      <th>short_title</th>\n",
       "    </tr>\n",
       "  </thead>\n",
       "  <tbody>\n",
       "    <tr>\n",
       "      <th>523</th>\n",
       "      <td>527</td>\n",
       "      <td>Schindler's List (1993)</td>\n",
       "      <td>Drama|War</td>\n",
       "      <td>1993</td>\n",
       "      <td>Schindler's List</td>\n",
       "    </tr>\n",
       "  </tbody>\n",
       "</table>\n",
       "</div>"
      ],
      "text/plain": [
       "     movie_id                    title     genres  year       short_title\n",
       "523       527  Schindler's List (1993)  Drama|War  1993  Schindler's List"
      ]
     },
     "execution_count": 765,
     "metadata": {},
     "output_type": "execute_result"
    }
   ],
   "source": [
    "movies[movies.movie_id == top_rated_female_movie_index]"
   ]
  },
  {
   "cell_type": "markdown",
   "metadata": {},
   "source": [
    "### Calculations for Highly Rated  Movies by Males"
   ]
  },
  {
   "cell_type": "code",
   "execution_count": 766,
   "metadata": {},
   "outputs": [
    {
     "data": {
      "text/html": [
       "<div>\n",
       "<style scoped>\n",
       "    .dataframe tbody tr th:only-of-type {\n",
       "        vertical-align: middle;\n",
       "    }\n",
       "\n",
       "    .dataframe tbody tr th {\n",
       "        vertical-align: top;\n",
       "    }\n",
       "\n",
       "    .dataframe thead th {\n",
       "        text-align: right;\n",
       "    }\n",
       "</style>\n",
       "<table border=\"1\" class=\"dataframe\">\n",
       "  <thead>\n",
       "    <tr style=\"text-align: right;\">\n",
       "      <th></th>\n",
       "      <th>mean_rating</th>\n",
       "      <th>rating_count</th>\n",
       "      <th>count_weight</th>\n",
       "      <th>weighted</th>\n",
       "    </tr>\n",
       "    <tr>\n",
       "      <th>movie_id</th>\n",
       "      <th></th>\n",
       "      <th></th>\n",
       "      <th></th>\n",
       "      <th></th>\n",
       "    </tr>\n",
       "  </thead>\n",
       "  <tbody>\n",
       "    <tr>\n",
       "      <th>260</th>\n",
       "      <td>4.495307</td>\n",
       "      <td>2344.0</td>\n",
       "      <td>11.194757</td>\n",
       "      <td>50.323871</td>\n",
       "    </tr>\n",
       "    <tr>\n",
       "      <th>318</th>\n",
       "      <td>4.560625</td>\n",
       "      <td>1600.0</td>\n",
       "      <td>10.643856</td>\n",
       "      <td>48.542637</td>\n",
       "    </tr>\n",
       "    <tr>\n",
       "      <th>858</th>\n",
       "      <td>4.583333</td>\n",
       "      <td>1740.0</td>\n",
       "      <td>10.764872</td>\n",
       "      <td>49.338995</td>\n",
       "    </tr>\n",
       "    <tr>\n",
       "      <th>1196</th>\n",
       "      <td>4.344577</td>\n",
       "      <td>2342.0</td>\n",
       "      <td>11.193525</td>\n",
       "      <td>48.631136</td>\n",
       "    </tr>\n",
       "    <tr>\n",
       "      <th>1198</th>\n",
       "      <td>4.520597</td>\n",
       "      <td>1942.0</td>\n",
       "      <td>10.923327</td>\n",
       "      <td>49.379965</td>\n",
       "    </tr>\n",
       "    <tr>\n",
       "      <th>2028</th>\n",
       "      <td>4.398941</td>\n",
       "      <td>2078.0</td>\n",
       "      <td>11.020980</td>\n",
       "      <td>48.480644</td>\n",
       "    </tr>\n",
       "    <tr>\n",
       "      <th>2858</th>\n",
       "      <td>4.347301</td>\n",
       "      <td>2482.0</td>\n",
       "      <td>11.277287</td>\n",
       "      <td>49.025758</td>\n",
       "    </tr>\n",
       "  </tbody>\n",
       "</table>\n",
       "</div>"
      ],
      "text/plain": [
       "          mean_rating  rating_count  count_weight   weighted\n",
       "movie_id                                                    \n",
       "260          4.495307        2344.0     11.194757  50.323871\n",
       "318          4.560625        1600.0     10.643856  48.542637\n",
       "858          4.583333        1740.0     10.764872  49.338995\n",
       "1196         4.344577        2342.0     11.193525  48.631136\n",
       "1198         4.520597        1942.0     10.923327  49.379965\n",
       "2028         4.398941        2078.0     11.020980  48.480644\n",
       "2858         4.347301        2482.0     11.277287  49.025758"
      ]
     },
     "execution_count": 766,
     "metadata": {},
     "output_type": "execute_result"
    }
   ],
   "source": [
    "# Getting all tuples with male as Gender.\n",
    "df_male_user = df_user_rating_movie.groupby(\"gender\").get_group(\"M\")\n",
    "# Calling streamlined process.\n",
    "df_male_top_rated, top_rated_male_movie_index = merged_df_to_highest_rated(df_male_user, 1)\n",
    "df_male_top_rated"
   ]
  },
  {
   "cell_type": "markdown",
   "metadata": {},
   "source": [
    "### Movies Highly Rated by Males"
   ]
  },
  {
   "cell_type": "code",
   "execution_count": 767,
   "metadata": {},
   "outputs": [
    {
     "data": {
      "text/html": [
       "<div>\n",
       "<style scoped>\n",
       "    .dataframe tbody tr th:only-of-type {\n",
       "        vertical-align: middle;\n",
       "    }\n",
       "\n",
       "    .dataframe tbody tr th {\n",
       "        vertical-align: top;\n",
       "    }\n",
       "\n",
       "    .dataframe thead th {\n",
       "        text-align: right;\n",
       "    }\n",
       "</style>\n",
       "<table border=\"1\" class=\"dataframe\">\n",
       "  <thead>\n",
       "    <tr style=\"text-align: right;\">\n",
       "      <th></th>\n",
       "      <th>movie_id</th>\n",
       "      <th>title</th>\n",
       "      <th>genres</th>\n",
       "      <th>year</th>\n",
       "      <th>short_title</th>\n",
       "    </tr>\n",
       "  </thead>\n",
       "  <tbody>\n",
       "    <tr>\n",
       "      <th>257</th>\n",
       "      <td>260</td>\n",
       "      <td>Star Wars: Episode IV - A New Hope (1977)</td>\n",
       "      <td>Action|Adventure|Fantasy|Sci-Fi</td>\n",
       "      <td>1977</td>\n",
       "      <td>Star Wars: Episode IV - A New Hope</td>\n",
       "    </tr>\n",
       "    <tr>\n",
       "      <th>315</th>\n",
       "      <td>318</td>\n",
       "      <td>Shawshank Redemption, The (1994)</td>\n",
       "      <td>Drama</td>\n",
       "      <td>1994</td>\n",
       "      <td>Shawshank Redemption, The</td>\n",
       "    </tr>\n",
       "    <tr>\n",
       "      <th>847</th>\n",
       "      <td>858</td>\n",
       "      <td>Godfather, The (1972)</td>\n",
       "      <td>Action|Crime|Drama</td>\n",
       "      <td>1972</td>\n",
       "      <td>Godfather, The</td>\n",
       "    </tr>\n",
       "    <tr>\n",
       "      <th>1178</th>\n",
       "      <td>1196</td>\n",
       "      <td>Star Wars: Episode V - The Empire Strikes Back...</td>\n",
       "      <td>Action|Adventure|Drama|Sci-Fi|War</td>\n",
       "      <td>1980</td>\n",
       "      <td>Star Wars: Episode V - The Empire Strikes Back</td>\n",
       "    </tr>\n",
       "    <tr>\n",
       "      <th>1180</th>\n",
       "      <td>1198</td>\n",
       "      <td>Raiders of the Lost Ark (1981)</td>\n",
       "      <td>Action|Adventure</td>\n",
       "      <td>1981</td>\n",
       "      <td>Raiders of the Lost Ark</td>\n",
       "    </tr>\n",
       "    <tr>\n",
       "      <th>1959</th>\n",
       "      <td>2028</td>\n",
       "      <td>Saving Private Ryan (1998)</td>\n",
       "      <td>Action|Drama|War</td>\n",
       "      <td>1998</td>\n",
       "      <td>Saving Private Ryan</td>\n",
       "    </tr>\n",
       "    <tr>\n",
       "      <th>2789</th>\n",
       "      <td>2858</td>\n",
       "      <td>American Beauty (1999)</td>\n",
       "      <td>Comedy|Drama</td>\n",
       "      <td>1999</td>\n",
       "      <td>American Beauty</td>\n",
       "    </tr>\n",
       "  </tbody>\n",
       "</table>\n",
       "</div>"
      ],
      "text/plain": [
       "      movie_id                                              title  \\\n",
       "257        260          Star Wars: Episode IV - A New Hope (1977)   \n",
       "315        318                   Shawshank Redemption, The (1994)   \n",
       "847        858                              Godfather, The (1972)   \n",
       "1178      1196  Star Wars: Episode V - The Empire Strikes Back...   \n",
       "1180      1198                     Raiders of the Lost Ark (1981)   \n",
       "1959      2028                         Saving Private Ryan (1998)   \n",
       "2789      2858                             American Beauty (1999)   \n",
       "\n",
       "                                 genres  year  \\\n",
       "257     Action|Adventure|Fantasy|Sci-Fi  1977   \n",
       "315                               Drama  1994   \n",
       "847                  Action|Crime|Drama  1972   \n",
       "1178  Action|Adventure|Drama|Sci-Fi|War  1980   \n",
       "1180                   Action|Adventure  1981   \n",
       "1959                   Action|Drama|War  1998   \n",
       "2789                       Comedy|Drama  1999   \n",
       "\n",
       "                                         short_title  \n",
       "257               Star Wars: Episode IV - A New Hope  \n",
       "315                        Shawshank Redemption, The  \n",
       "847                                   Godfather, The  \n",
       "1178  Star Wars: Episode V - The Empire Strikes Back  \n",
       "1180                         Raiders of the Lost Ark  \n",
       "1959                             Saving Private Ryan  \n",
       "2789                                 American Beauty  "
      ]
     },
     "execution_count": 767,
     "metadata": {},
     "output_type": "execute_result"
    }
   ],
   "source": [
    "movies[movies.movie_id.isin(list(df_male_top_rated.index.values))]"
   ]
  },
  {
   "cell_type": "markdown",
   "metadata": {},
   "source": [
    "# Date Night Recommendation for M/M Date Night (Top Choice for M)"
   ]
  },
  {
   "cell_type": "code",
   "execution_count": 768,
   "metadata": {},
   "outputs": [
    {
     "data": {
      "text/html": [
       "<div>\n",
       "<style scoped>\n",
       "    .dataframe tbody tr th:only-of-type {\n",
       "        vertical-align: middle;\n",
       "    }\n",
       "\n",
       "    .dataframe tbody tr th {\n",
       "        vertical-align: top;\n",
       "    }\n",
       "\n",
       "    .dataframe thead th {\n",
       "        text-align: right;\n",
       "    }\n",
       "</style>\n",
       "<table border=\"1\" class=\"dataframe\">\n",
       "  <thead>\n",
       "    <tr style=\"text-align: right;\">\n",
       "      <th></th>\n",
       "      <th>movie_id</th>\n",
       "      <th>title</th>\n",
       "      <th>genres</th>\n",
       "      <th>year</th>\n",
       "      <th>short_title</th>\n",
       "    </tr>\n",
       "  </thead>\n",
       "  <tbody>\n",
       "    <tr>\n",
       "      <th>257</th>\n",
       "      <td>260</td>\n",
       "      <td>Star Wars: Episode IV - A New Hope (1977)</td>\n",
       "      <td>Action|Adventure|Fantasy|Sci-Fi</td>\n",
       "      <td>1977</td>\n",
       "      <td>Star Wars: Episode IV - A New Hope</td>\n",
       "    </tr>\n",
       "  </tbody>\n",
       "</table>\n",
       "</div>"
      ],
      "text/plain": [
       "     movie_id                                      title  \\\n",
       "257       260  Star Wars: Episode IV - A New Hope (1977)   \n",
       "\n",
       "                              genres  year                         short_title  \n",
       "257  Action|Adventure|Fantasy|Sci-Fi  1977  Star Wars: Episode IV - A New Hope  "
      ]
     },
     "execution_count": 768,
     "metadata": {},
     "output_type": "execute_result"
    }
   ],
   "source": [
    "movies[movies.movie_id == top_rated_male_movie_index]"
   ]
  },
  {
   "cell_type": "markdown",
   "metadata": {},
   "source": [
    "### Merging Highly Rated Data from Female and Male Dataframes"
   ]
  },
  {
   "cell_type": "code",
   "execution_count": 769,
   "metadata": {},
   "outputs": [
    {
     "data": {
      "text/html": [
       "<div>\n",
       "<style scoped>\n",
       "    .dataframe tbody tr th:only-of-type {\n",
       "        vertical-align: middle;\n",
       "    }\n",
       "\n",
       "    .dataframe tbody tr th {\n",
       "        vertical-align: top;\n",
       "    }\n",
       "\n",
       "    .dataframe thead th {\n",
       "        text-align: right;\n",
       "    }\n",
       "</style>\n",
       "<table border=\"1\" class=\"dataframe\">\n",
       "  <thead>\n",
       "    <tr style=\"text-align: right;\">\n",
       "      <th></th>\n",
       "      <th>movie_id</th>\n",
       "      <th>title</th>\n",
       "      <th>genres</th>\n",
       "      <th>year</th>\n",
       "      <th>short_title</th>\n",
       "    </tr>\n",
       "  </thead>\n",
       "  <tbody>\n",
       "    <tr>\n",
       "      <th>315</th>\n",
       "      <td>318</td>\n",
       "      <td>Shawshank Redemption, The (1994)</td>\n",
       "      <td>Drama</td>\n",
       "      <td>1994</td>\n",
       "      <td>Shawshank Redemption, The</td>\n",
       "    </tr>\n",
       "    <tr>\n",
       "      <th>2789</th>\n",
       "      <td>2858</td>\n",
       "      <td>American Beauty (1999)</td>\n",
       "      <td>Comedy|Drama</td>\n",
       "      <td>1999</td>\n",
       "      <td>American Beauty</td>\n",
       "    </tr>\n",
       "  </tbody>\n",
       "</table>\n",
       "</div>"
      ],
      "text/plain": [
       "      movie_id                             title        genres  year  \\\n",
       "315        318  Shawshank Redemption, The (1994)         Drama  1994   \n",
       "2789      2858            American Beauty (1999)  Comedy|Drama  1999   \n",
       "\n",
       "                    short_title  \n",
       "315   Shawshank Redemption, The  \n",
       "2789            American Beauty  "
      ]
     },
     "execution_count": 769,
     "metadata": {},
     "output_type": "execute_result"
    }
   ],
   "source": [
    "# Merging dataframes to find the highest rated amongst both groups.\n",
    "df_movie_date_suggestions = df_female_top_rated.merge(df_male_top_rated, how = \"inner\", on =\"movie_id\")\n",
    "movies[movies.movie_id.isin(list(df_movie_date_suggestions.index.values))]"
   ]
  },
  {
   "cell_type": "markdown",
   "metadata": {},
   "source": [
    "# Date Night Recommendations for F/M Date Night"
   ]
  },
  {
   "cell_type": "code",
   "execution_count": 770,
   "metadata": {
    "scrolled": true
   },
   "outputs": [
    {
     "name": "stdout",
     "output_type": "stream",
     "text": [
      "If age does not matter we recommend going to see \"American Beauty (1999)\" for date night.\n",
      "It has an average rating of 4.29\n"
     ]
    }
   ],
   "source": [
    "# Finding movie index which has highest rating amongst male and female viewers.\n",
    "# Implements sort.\n",
    "suggested_movie_index = (df_movie_date_suggestions.weighted_x \\\n",
    "         + df_movie_date_suggestions.weighted_y).sort_values(ascending = False).index[0]\n",
    "# Getting the title for the highest rated movie.\n",
    "suggested_movie_title = \"\".join(movies[movies.movie_id == suggested_movie_index].title)\n",
    "# Getting the rating for the highest rated movie.\n",
    "suggested_movie_rating = (df_movie_date_suggestions.mean_rating_x\\\n",
    "                         + df_movie_date_suggestions.mean_rating_y)[suggested_movie_index] / 2\n",
    "\n",
    "print(\"If age does not matter we recommend going to see \\\"{}\\\" for date night.\".format(suggested_movie_title))\n",
    "print(\"It has an average rating of {:.2f}\".format (suggested_movie_rating))"
   ]
  },
  {
   "cell_type": "markdown",
   "metadata": {},
   "source": [
    "### Turning off Warnings"
   ]
  },
  {
   "cell_type": "code",
   "execution_count": 771,
   "metadata": {},
   "outputs": [],
   "source": [
    "# Turning off warnings to beautify data output.\n",
    "import warnings\n",
    "warnings.filterwarnings(\"ignore\")"
   ]
  },
  {
   "cell_type": "markdown",
   "metadata": {},
   "source": [
    "# Date Night Recommendations For Age Group and F/F Date Night"
   ]
  },
  {
   "cell_type": "code",
   "execution_count": 772,
   "metadata": {},
   "outputs": [
    {
     "name": "stdout",
     "output_type": "stream",
     "text": [
      "For age 20 to 30 we recommend going to see \"Sixth Sense, The (1999)\" for date night.\n",
      "It has an average rating of 4.61 among this age group.\n",
      "\n",
      "For age 30 to 40 we recommend going to see \"Sixth Sense, The (1999)\" for date night.\n",
      "It has an average rating of 4.49 among this age group.\n",
      "\n",
      "For age 40 to 50 we recommend going to see \"Schindler's List (1993)\" for date night.\n",
      "It has an average rating of 4.70 among this age group.\n",
      "\n",
      "For age 50 to 60 we recommend going to see \"Schindler's List (1993)\" for date night.\n",
      "It has an average rating of 4.74 among this age group.\n",
      "\n"
     ]
    }
   ],
   "source": [
    "# Iterate over each available decade of age.\n",
    "for x in range(20,(users.age.max() + 10 - (users.age.max() % 10)),10):\n",
    "    # Getting female users and those which fall within the age of this iterations range.\n",
    "    df_female_age = df_user_rating_movie.groupby(\"gender\")\\\n",
    "                    .get_group(\"F\")[(df_user_rating_movie.age >= x)\\\n",
    "                        & (df_user_rating_movie.age < x + 10)]\n",
    "    # Calling streamlined process.\n",
    "    # Increasing sensitivity a bit in attempt to diversify results.\n",
    "    df_f_top_rated, top_rated_f_index = merged_df_to_highest_rated(df_female_age, 1)\n",
    "    # Getting movie index that has highest calculated score.\n",
    "    suggested_movie_index = (df_f_top_rated.weighted).sort_values(ascending = False).index[0]\n",
    "    # Getting movie title that has heighest calculated score.\n",
    "    suggested_movie_title = \"\".join(movies[movies.movie_id == suggested_movie_index].title)\n",
    "    # Getting movie rating for highest scored. \n",
    "    suggested_movie_rating = (df_f_top_rated.mean_rating)[suggested_movie_index]\n",
    "    \n",
    "    print(\"For age {} to {} we recommend going to see \\\"{}\\\" for date night.\"\\\n",
    "          .format(x, x + 10, suggested_movie_title))\n",
    "    print(\"It has an average rating of {:.2f} among this age group.\".format (suggested_movie_rating))\n",
    "    print()"
   ]
  },
  {
   "cell_type": "markdown",
   "metadata": {},
   "source": [
    "# Date Night Recommendations For Age Group and M/M Date Night"
   ]
  },
  {
   "cell_type": "code",
   "execution_count": 773,
   "metadata": {},
   "outputs": [
    {
     "name": "stdout",
     "output_type": "stream",
     "text": [
      "For age 20 to 30 we recommend going to see \"Star Wars: Episode IV - A New Hope (1977)\" for date night.\n",
      "It has an average rating of 4.61 among this age group.\n",
      "\n",
      "For age 30 to 40 we recommend going to see \"Star Wars: Episode IV - A New Hope (1977)\" for date night.\n",
      "It has an average rating of 4.40 among this age group.\n",
      "\n",
      "For age 40 to 50 we recommend going to see \"Star Wars: Episode IV - A New Hope (1977)\" for date night.\n",
      "It has an average rating of 4.38 among this age group.\n",
      "\n",
      "For age 50 to 60 we recommend going to see \"Godfather, The (1972)\" for date night.\n",
      "It has an average rating of 4.55 among this age group.\n",
      "\n"
     ]
    }
   ],
   "source": [
    "# Iterate over each available decade of age.\n",
    "for x in range(20,(users.age.max() + 10 - (users.age.max() % 10)),10):\n",
    "    # Getting male users and those which fall within the age of this iterations range.\n",
    "    df_male_age = df_user_rating_movie.groupby(\"gender\")\\\n",
    "                    .get_group(\"M\")[(df_user_rating_movie.age >= x)\\\n",
    "                        & (df_user_rating_movie.age < x + 10)]\n",
    "    # Calling streamlined process.\n",
    "    # Increasing sensitivity a bit in attempt to diversify results.\n",
    "    df_m_top_rated, top_rated_m_index = merged_df_to_highest_rated(df_male_age, 1)\n",
    "    # Getting movie index that has highest calculated score.\n",
    "    suggested_movie_index = (df_m_top_rated.weighted).sort_values(ascending = False).index[0]\n",
    "    # Getting movie title that has heighest calculated score.\n",
    "    suggested_movie_title = \"\".join(movies[movies.movie_id == suggested_movie_index].title)\n",
    "    # Getting movie rating for highest scored. \n",
    "    suggested_movie_rating = (df_m_top_rated.mean_rating)[suggested_movie_index]\n",
    "    \n",
    "    print(\"For age {} to {} we recommend going to see \\\"{}\\\" for date night.\"\\\n",
    "          .format(x, x + 10, suggested_movie_title))\n",
    "    print(\"It has an average rating of {:.2f} among this age group.\".format (suggested_movie_rating))\n",
    "    print()"
   ]
  },
  {
   "cell_type": "markdown",
   "metadata": {},
   "source": [
    "# Date Night Recommendations For Age Group and F/M Date Night"
   ]
  },
  {
   "cell_type": "code",
   "execution_count": 774,
   "metadata": {},
   "outputs": [
    {
     "name": "stdout",
     "output_type": "stream",
     "text": [
      "For age 20 to 30 we recommend going to see \"Star Wars: Episode IV - A New Hope (1977)\" for date night.\n",
      "It has an average rating of 4.51 among this age group.\n",
      "\n",
      "For age 30 to 40 we recommend going to see \"Raiders of the Lost Ark (1981)\" for date night.\n",
      "It has an average rating of 4.45 among this age group.\n",
      "\n",
      "For age 40 to 50 we recommend going to see \"Schindler's List (1993)\" for date night.\n",
      "It has an average rating of 4.62 among this age group.\n",
      "\n",
      "For age 50 to 60 we recommend going to see \"Schindler's List (1993)\" for date night.\n",
      "It has an average rating of 4.63 among this age group.\n",
      "\n"
     ]
    }
   ],
   "source": [
    "# Iterate over each available decade of age.\n",
    "for x in range(20,(users.age.max() + 10 - (users.age.max() % 10)),10):\n",
    "    # Getting female users and those which fall within the age of this iterations range.\n",
    "    df_female_age = df_user_rating_movie.groupby(\"gender\")\\\n",
    "                    .get_group(\"F\")[(df_user_rating_movie.age >= x)\\\n",
    "                        & (df_user_rating_movie.age < x + 10)]\n",
    "    # Getting male users and those which fall within the age of this iterations range.\n",
    "    df_male_age = df_user_rating_movie.groupby(\"gender\")\\\n",
    "                    .get_group(\"M\")[(df_user_rating_movie.age >= x)\\\n",
    "                        & (df_user_rating_movie.age < x + 10)]\n",
    "    # Calling streamlined process.\n",
    "    # Increasing sensitivity a bit in attempt to diversify results.\n",
    "    df_f_top_rated, top_rated_f_index = merged_df_to_highest_rated(df_female_age, 1)\n",
    "    df_m_top_rated, top_rated_m_index = merged_df_to_highest_rated(df_male_age, 1)\n",
    "    # Merging data to find the highest rated amongst both groups.\n",
    "    df_movie_date_suggestions = df_f_top_rated.merge(df_m_top_rated, how = \"inner\", on = \"movie_id\")\n",
    "    # Getting movie index that has highest calculated score.\n",
    "    suggested_movie_index = (df_movie_date_suggestions.weighted_x \\\n",
    "             + df_movie_date_suggestions.weighted_y).sort_values(ascending = False).index[0]\n",
    "    # Getting movie title that has heighest calculated score.\n",
    "    suggested_movie_title = \"\".join(movies[movies.movie_id == suggested_movie_index].title)\n",
    "    # Getting movie rating for highest scored. \n",
    "    suggested_movie_rating = (df_movie_date_suggestions.mean_rating_x\\\n",
    "                         + df_movie_date_suggestions.mean_rating_y)[suggested_movie_index] / 2\n",
    "    \n",
    "    print(\"For age {} to {} we recommend going to see \\\"{}\\\" for date night.\"\\\n",
    "          .format(x, x + 10, suggested_movie_title))\n",
    "    print(\"It has an average rating of {:.2f} among this age group.\".format (suggested_movie_rating))\n",
    "    print()"
   ]
  },
  {
   "cell_type": "markdown",
   "metadata": {},
   "source": [
    "# Subjective Date Night\n",
    "### We are going to analyze movies based on age group of 20-30, both genders, and a genre of Horror for a subjective F/M date night."
   ]
  },
  {
   "cell_type": "code",
   "execution_count": 775,
   "metadata": {},
   "outputs": [],
   "source": [
    "# Getting all tuples that contain horror as genre.\n",
    "df_horror = df_user_rating_movie[df_user_rating_movie.genres.str.contains(\"Horror\")]\n",
    "# Getting all tuples that have age within 20-30.\n",
    "df_horror_age = df_horror[(df_horror.age >= 20) & (df_horror.age < 30)]\n",
    "# Separating groups by female.\n",
    "df_horror_age_f = df_horror_age.groupby(\"gender\").get_group(\"F\")\n",
    "# Separating groups by male.\n",
    "df_horror_age_m = df_horror_age.groupby(\"gender\").get_group(\"M\")\n",
    "\n",
    "# Getting highest rated movies for both groups.\n",
    "df_f_top_rated, top_rated_f_index = merged_df_to_highest_rated(df_horror_age_f, 2)\n",
    "df_m_top_rated, top_rated_m_index = merged_df_to_highest_rated(df_horror_age_m, 2)\n",
    "\n",
    "# Merging highest rated movies for both groups.\n",
    "df_movie_date_suggestions = df_f_top_rated.merge(df_m_top_rated, how = \"inner\", on = \"movie_id\")\n",
    "\n",
    "# Calculating the scores and retrieving the highest scored.\n",
    "suggested_movie_index = (df_movie_date_suggestions.weighted_x \\\n",
    "         + df_movie_date_suggestions.weighted_y).sort_values(ascending = False).index[0]\n",
    "# Getting the movie title of highest scored.\n",
    "suggested_movie_title = \"\".join(movies[movies.movie_id == suggested_movie_index].title)\n",
    "# Getting the movie rating of highest scored.\n",
    "suggested_movie_rating = (df_movie_date_suggestions.mean_rating_x\\\n",
    "                     + df_movie_date_suggestions.mean_rating_y)[suggested_movie_index] / 2"
   ]
  },
  {
   "cell_type": "markdown",
   "metadata": {},
   "source": [
    "# Subjective Date Night Considerations"
   ]
  },
  {
   "cell_type": "code",
   "execution_count": 776,
   "metadata": {},
   "outputs": [
    {
     "data": {
      "text/html": [
       "<div>\n",
       "<style scoped>\n",
       "    .dataframe tbody tr th:only-of-type {\n",
       "        vertical-align: middle;\n",
       "    }\n",
       "\n",
       "    .dataframe tbody tr th {\n",
       "        vertical-align: top;\n",
       "    }\n",
       "\n",
       "    .dataframe thead th {\n",
       "        text-align: right;\n",
       "    }\n",
       "</style>\n",
       "<table border=\"1\" class=\"dataframe\">\n",
       "  <thead>\n",
       "    <tr style=\"text-align: right;\">\n",
       "      <th></th>\n",
       "      <th>movie_id</th>\n",
       "      <th>title</th>\n",
       "      <th>genres</th>\n",
       "      <th>year</th>\n",
       "      <th>short_title</th>\n",
       "    </tr>\n",
       "  </thead>\n",
       "  <tbody>\n",
       "    <tr>\n",
       "      <th>1196</th>\n",
       "      <td>1214</td>\n",
       "      <td>Alien (1979)</td>\n",
       "      <td>Action|Horror|Sci-Fi|Thriller</td>\n",
       "      <td>1979</td>\n",
       "      <td>Alien</td>\n",
       "    </tr>\n",
       "    <tr>\n",
       "      <th>1366</th>\n",
       "      <td>1387</td>\n",
       "      <td>Jaws (1975)</td>\n",
       "      <td>Action|Horror</td>\n",
       "      <td>1975</td>\n",
       "      <td>Jaws</td>\n",
       "    </tr>\n",
       "  </tbody>\n",
       "</table>\n",
       "</div>"
      ],
      "text/plain": [
       "      movie_id         title                         genres  year short_title\n",
       "1196      1214  Alien (1979)  Action|Horror|Sci-Fi|Thriller  1979       Alien\n",
       "1366      1387   Jaws (1975)                  Action|Horror  1975        Jaws"
      ]
     },
     "execution_count": 776,
     "metadata": {},
     "output_type": "execute_result"
    }
   ],
   "source": [
    "movies[movies.movie_id.isin(list(df_movie_date_suggestions.index.values))]"
   ]
  },
  {
   "cell_type": "markdown",
   "metadata": {},
   "source": [
    "# <font color = \"blue\">Subjective Date Night Recommendation</font>"
   ]
  },
  {
   "cell_type": "code",
   "execution_count": 777,
   "metadata": {},
   "outputs": [
    {
     "name": "stdout",
     "output_type": "stream",
     "text": [
      "For ages 20 to 30, interested in horror genre, we recommend going to see \"Alien (1979)\" for date night.\n",
      "It has an average rating of 4.17.\n",
      "\n"
     ]
    }
   ],
   "source": [
    "print(\"For ages {} to {}, interested in horror genre, we recommend going to see \\\"{}\\\" for date night.\"\\\n",
    "      .format(20, 30, suggested_movie_title))\n",
    "print(\"It has an average rating of {:.2f}.\".format (suggested_movie_rating))\n",
    "print()"
   ]
  }
 ],
 "metadata": {
  "kernelspec": {
   "display_name": "Python 3",
   "language": "python",
   "name": "python3"
  },
  "language_info": {
   "codemirror_mode": {
    "name": "ipython",
    "version": 3
   },
   "file_extension": ".py",
   "mimetype": "text/x-python",
   "name": "python",
   "nbconvert_exporter": "python",
   "pygments_lexer": "ipython3",
   "version": "3.8.5"
  }
 },
 "nbformat": 4,
 "nbformat_minor": 1
}
