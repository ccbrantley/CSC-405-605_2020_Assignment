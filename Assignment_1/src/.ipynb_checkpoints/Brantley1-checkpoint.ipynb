{
 "cells": [
  {
   "cell_type": "markdown",
   "metadata": {},
   "source": [
    "# Assignment 1\n",
    "#### Dr. Mohanty\n",
    "#### Christopher Brantley\n",
    "#### CSC 405\n",
    "#### 09/08/2020\n",
    "##### *I, Christopher Brantley, have abided by the UNCG academic policy.*"
   ]
  },
  {
   "cell_type": "markdown",
   "metadata": {},
   "source": [
    "## Module Imports"
   ]
  },
  {
   "cell_type": "code",
   "execution_count": null,
   "metadata": {},
   "outputs": [],
   "source": [
    "# csv module is used to elegantly open the data file.\n",
    "import csv\n",
    "# random module is used to generate random numbers.\n",
    "import random"
   ]
  },
  {
   "cell_type": "markdown",
   "metadata": {},
   "source": [
    "## Retrieving the student data"
   ]
  },
  {
   "cell_type": "code",
   "execution_count": null,
   "metadata": {},
   "outputs": [],
   "source": [
    "# Method reads and returns the student data file with intra row separation through the \"\\t\" delimiter.\n",
    "# The index [1:] is used to skip past the first row which contains the attributes.\n",
    "def retrieveData():\n",
    "    return [entry for entry in csv.reader(open(\"../data/fall-20-students.tsv\"), delimiter = \"\\t\")][1:]"
   ]
  },
  {
   "cell_type": "markdown",
   "metadata": {},
   "source": [
    "## User input and validation"
   ]
  },
  {
   "cell_type": "code",
   "execution_count": null,
   "metadata": {},
   "outputs": [],
   "source": [
    "# Method gets and validates user input. While the character remains null, non-numeric, or negative\n",
    "# the loop continues. Any positive numeric value passed in will be converted and returned as an integer.\n",
    "def teamQtyInput():\n",
    "    teamQtyValue = '\\0'\n",
    "    while (not(teamQtyValue.isnumeric())):\n",
    "        teamQtyValue = (input(\"Please enter a positive and non-zero integer value for team quantity:\"))\n",
    "    return int(teamQtyValue)\n"
   ]
  },
  {
   "cell_type": "markdown",
   "metadata": {},
   "source": [
    "## Dividing the students into groups"
   ]
  },
  {
   "cell_type": "code",
   "execution_count": null,
   "metadata": {},
   "outputs": [],
   "source": [
    "# Method uses linear comprehension to create _teamQty amount of empty lists to prepare for population.\n",
    "# While loop iterates until _studentList is empty, randomly selecting, without replacement, students\n",
    "# to be placed into the teams list. The internal if condition is necessary to prevent the internal\n",
    "# for loop from going out of the index bounds.\n",
    "def setGroups(_studentList, _teamQty):\n",
    "    teams = [[] for x in range(_teamQty)]\n",
    "    while(_studentList != []):\n",
    "        [teams[x].append(_studentList.pop(random.randrange(len(_studentList)))) \\\n",
    "         for x in range (_teamQty) if len(_studentList) != 0]\n",
    "    return teams"
   ]
  },
  {
   "cell_type": "markdown",
   "metadata": {},
   "source": [
    "## Main Function"
   ]
  },
  {
   "cell_type": "code",
   "execution_count": null,
   "metadata": {},
   "outputs": [],
   "source": [
    "# Method first gets the list of teams by passing the student data and user input into method setGroups.\n",
    "# Method then applys formatting to the teams list to enhance readability and prints the statement.\n",
    "# \"\".join is necessary to convert from raw string.\n",
    "def main():\n",
    "    teams = setGroups(retrieveData(), teamQtyInput())\n",
    "    print(\"\".join([\"Team {} ({} Members) \\n -------------- \\n {} \\n\\n\"\\\n",
    "                   .format(x+1, len(teams[x]), teams[x]) for x in range(0, len(teams))]))\n",
    "main()"
   ]
  }
 ],
 "metadata": {
  "kernelspec": {
   "display_name": "Python 3",
   "language": "python",
   "name": "python3"
  },
  "language_info": {
   "codemirror_mode": {
    "name": "ipython",
    "version": 3
   },
   "file_extension": ".py",
   "mimetype": "text/x-python",
   "name": "python",
   "nbconvert_exporter": "python",
   "pygments_lexer": "ipython3",
   "version": "3.7.4"
  }
 },
 "nbformat": 4,
 "nbformat_minor": 2
}
