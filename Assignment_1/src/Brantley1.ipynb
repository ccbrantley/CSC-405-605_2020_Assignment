{
 "cells": [
  {
   "cell_type": "markdown",
   "metadata": {},
   "source": [
    "# Assignment 1\n",
    "#### Dr. Mohanty\n",
    "#### Christopher Brantley\n",
    "#### CSC 405\n",
    "#### 09/08/2020\n",
    "##### *I, Christopher Brantley, have abided by the UNCG academic policy.*"
   ]
  },
  {
   "cell_type": "markdown",
   "metadata": {},
   "source": [
    "## Module Imports"
   ]
  },
  {
   "cell_type": "code",
   "execution_count": 1,
   "metadata": {},
   "outputs": [],
   "source": [
    "# csv module is used to elegantly open the data file.\n",
    "import csv\n",
    "# random module is used to generate random numbers.\n",
    "import random"
   ]
  },
  {
   "cell_type": "markdown",
   "metadata": {},
   "source": [
    "## Retrieving the student data"
   ]
  },
  {
   "cell_type": "code",
   "execution_count": 2,
   "metadata": {},
   "outputs": [],
   "source": [
    "# Method reads and returns the student data file with intra row separation through the \"\\t\" delimiter.\n",
    "# The index [1:] is used to skip past the first row which contains the attributes.\n",
    "def retrieveData():\n",
    "    return [entry for entry in csv.reader(open(\"../data/fall-20-students.tsv\"), delimiter = \"\\t\")][1:]"
   ]
  },
  {
   "cell_type": "markdown",
   "metadata": {},
   "source": [
    "## User input and validation"
   ]
  },
  {
   "cell_type": "code",
   "execution_count": 3,
   "metadata": {},
   "outputs": [],
   "source": [
    "# Method gets and validates user input. While the character remains null, non-numeric, or negative\n",
    "# the loop continues. Any positive numeric value passed in will be converted and returned as an integer.\n",
    "def teamQtyInput():\n",
    "    teamQtyValue = '\\0'\n",
    "    while (not(teamQtyValue.isnumeric())):\n",
    "        teamQtyValue = (input(\"Please enter a positive and non-zero integer value for team quantity:\"))\n",
    "    return int(teamQtyValue)\n"
   ]
  },
  {
   "cell_type": "markdown",
   "metadata": {},
   "source": [
    "## Dividing the students into groups"
   ]
  },
  {
   "cell_type": "code",
   "execution_count": 4,
   "metadata": {},
   "outputs": [],
   "source": [
    "# Method uses linear comprehension to create _teamQty amount of empty lists to prepare for population.\n",
    "# While loop iterates until _studentList is empty, randomly selecting, without replacement, students\n",
    "# to be placed into the teams list. The internal if condition is necessary to prevent the internal\n",
    "# for loop from going out of the index bounds.\n",
    "def setGroups(_studentList, _teamQty):\n",
    "    teams = [[] for x in range(_teamQty)]\n",
    "    while(_studentList != []):\n",
    "        [teams[x].append(_studentList.pop(random.randrange(len(_studentList)))) \\\n",
    "         for x in range (_teamQty) if len(_studentList) != 0]\n",
    "    return teams"
   ]
  },
  {
   "cell_type": "markdown",
   "metadata": {},
   "source": [
    "## Main Function"
   ]
  },
  {
   "cell_type": "code",
   "execution_count": 5,
   "metadata": {},
   "outputs": [
    {
     "name": "stdout",
     "output_type": "stream",
     "text": [
      "Please enter a positive and non-zero integer value for team quantity:3\n",
      "\n",
      "Team 1 (12 Members) \n",
      " -------------- \n",
      " [['Nadia Doudou', '-8293841509607106703'], ['Peter Yuan', '7947615571241282039'], ['Alex Penaloza', '2819579966094765319'], ['Christopher Brantley', '-695993714492741554'], ['Sanam Khalili', '-5958269882118250525'], ['Nikitha Narsing', '6496922049150786289'], ['Rashmi Hassan Udaya Kumar', '8962235084370848197'], ['Katelynn Urgitus', '-949226895385040933'], ['Pragna Tarali Talluri', '-5415828377393777804'], ['Ritu Joshi', '761861860507827969'], ['Himaja Avula', '-1277120681752197621'], ['Harika Cherukuri', '-3305872199329515624']] \n",
      "\n",
      "Team 2 (12 Members) \n",
      " -------------- \n",
      " [['Renhua Guo', '-6491867970585459806'], ['Carrie Stott', '2942246989690436998'], ['Vyankteshprasad Sathe', '4125177016738157512'], ['Isaac Taylor', '1411583132783385946'], ['Serena Wisnewski', '4654136525107463358'], ['Francis Perez', '7121637218959815285'], ['Amulya Yadagani', '3578090679313790194'], ['Quinn Tjin-a-soe', '5111078232283153860'], ['Ali Altamimi', '-5827033472622716890'], ['Shravya Muttineni', '2534912611900926672'], ['Solomon Berhe', '-1099123881744416934'], ['Xinrui Zhang', '4758487699251603117']] \n",
      "\n",
      "Team 3 (11 Members) \n",
      " -------------- \n",
      " [['Andrew Kawabata', '-2295906907469740116'], ['Amantii Samson', '-2106861634941313976'], ['Jason Manning', '6729191785026611246'], ['Jamison Valentine', '-8010483234696604880'], ['Harinderveer Badesha', '-2070052029797912257'], ['Tyler Wallschleger', '-1255795335168677361'], ['Tingyu Shi', '1130226862592949290'], ['Sadhana Thummalapenta', '-5860314708908377816'], ['Samhitha Kachapuram', '-432922863203962415'], ['Raiana Zaman', '7742713733844653691'], ['Mustafa Dere', '5766488569524362599']] \n",
      "\n"
     ]
    }
   ],
   "source": [
    "# Method first gets the list of teams by passing the student data and user input into method setGroups.\n",
    "# Method then applys formatting to the teams list to enhance readability and prints the statement.\n",
    "# \"\".join is necessary to convert from raw string.\n",
    "def main():\n",
    "    teams = setGroups(retrieveData(), teamQtyInput())\n",
    "    print(\"\".join([\"\\nTeam {} ({} Members) \\n -------------- \\n {} \\n\"\\\n",
    "                   .format(x+1, len(teams[x]), teams[x]) for x in range(0, len(teams))]))\n",
    "main()"
   ]
  }
 ],
 "metadata": {
  "kernelspec": {
   "display_name": "Python 3",
   "language": "python",
   "name": "python3"
  },
  "language_info": {
   "codemirror_mode": {
    "name": "ipython",
    "version": 3
   },
   "file_extension": ".py",
   "mimetype": "text/x-python",
   "name": "python",
   "nbconvert_exporter": "python",
   "pygments_lexer": "ipython3",
   "version": "3.8.5"
  }
 },
 "nbformat": 4,
 "nbformat_minor": 2
}
