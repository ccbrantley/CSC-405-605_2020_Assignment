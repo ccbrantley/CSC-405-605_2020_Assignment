{
 "cells": [
  {
   "cell_type": "code",
   "execution_count": 6,
   "metadata": {},
   "outputs": [],
   "source": [
    "import csv\n",
    "import random"
   ]
  },
  {
   "cell_type": "code",
   "execution_count": 7,
   "metadata": {},
   "outputs": [],
   "source": [
    "def retrieveData():\n",
    "    return [entry for entry in csv.reader(open(\"../data/fall-20-students.tsv\"), delimiter = \"\\t\")][1:]\n"
   ]
  },
  {
   "cell_type": "code",
   "execution_count": 8,
   "metadata": {},
   "outputs": [],
   "source": [
    "def teamQtyInput():\n",
    "    teamQtyValue = '\\0'\n",
    "    while (not(teamQtyValue.isnumeric())):\n",
    "        teamQtyValue = (input(\"Please enter a positive and non-zero integer value for team quantity:\"))\n",
    "    return int(teamQtyValue)\n"
   ]
  },
  {
   "cell_type": "code",
   "execution_count": 9,
   "metadata": {},
   "outputs": [],
   "source": [
    "def setGroups(_studentList, _teamQty):\n",
    "    teams = [[] for x in range(_teamQty)]\n",
    "    while(_studentList != []):\n",
    "        [teams[x].append(_studentList.pop(random.randrange(len(_studentList)))) for x in range (_teamQty) if len(_studentList) != 0]\n",
    "    return teams"
   ]
  },
  {
   "cell_type": "code",
   "execution_count": 10,
   "metadata": {},
   "outputs": [
    {
     "name": "stdout",
     "output_type": "stream",
     "text": [
      "Please enter a positive and non-zero integer value for team quantity:2\n",
      "Team 1 (18 Members) \n",
      " -------------- \n",
      " [['Harinderveer Badesha', '-2070052029797912257'], ['Tyler Wallschleger', '-1255795335168677361'], ['Ali Altamimi', '-5827033472622716890'], ['Solomon Berhe', '-1099123881744416934'], ['Peter Yuan', '7947615571241282039'], ['Serena Wisnewski', '4654136525107463358'], ['Sanam Khalili', '-5958269882118250525'], ['Nikitha Narsing', '6496922049150786289'], ['Ritu Joshi', '761861860507827969'], ['Christopher Brantley', '-695993714492741554'], ['Rashmi Hassan Udaya Kumar', '8962235084370848197'], ['Jason Manning', '6729191785026611246'], ['Sadhana Thummalapenta', '-5860314708908377816'], ['Harika Cherukuri', '-3305872199329515624'], ['Vyankteshprasad Sathe', '4125177016738157512'], ['Andrew Kawabata', '-2295906907469740116'], ['Jamison Valentine', '-8010483234696604880'], ['Quinn Tjin-a-soe', '5111078232283153860']] \n",
      "\n",
      "Team 2 (17 Members) \n",
      " -------------- \n",
      " [['Amantii Samson', '-2106861634941313976'], ['Samhitha Kachapuram', '-432922863203962415'], ['Pragna Tarali Talluri', '-5415828377393777804'], ['Xinrui Zhang', '4758487699251603117'], ['Tingyu Shi', '1130226862592949290'], ['Mustafa Dere', '5766488569524362599'], ['Himaja Avula', '-1277120681752197621'], ['Amulya Yadagani', '3578090679313790194'], ['Carrie Stott', '2942246989690436998'], ['Francis Perez', '7121637218959815285'], ['Katelynn Urgitus', '-949226895385040933'], ['Nadia Doudou', '-8293841509607106703'], ['Shravya Muttineni', '2534912611900926672'], ['Renhua Guo', '-6491867970585459806'], ['Alex Penaloza', '2819579966094765319'], ['Raiana Zaman', '7742713733844653691'], ['Isaac Taylor', '1411583132783385946']] \n",
      "\n",
      "\n"
     ]
    }
   ],
   "source": [
    "def main():\n",
    "    teams = setGroups(retrieveData(), teamQtyInput())\n",
    "    print(\"\".join([\"Team {} ({} Members) \\n -------------- \\n {} \\n\\n\".format(x+1, len(teams[x]), teams[x]) for x in range(0, len(teams))]))\n",
    "main()"
   ]
  },
  {
   "cell_type": "code",
   "execution_count": null,
   "metadata": {},
   "outputs": [],
   "source": []
  },
  {
   "cell_type": "code",
   "execution_count": null,
   "metadata": {},
   "outputs": [],
   "source": []
  },
  {
   "cell_type": "code",
   "execution_count": null,
   "metadata": {},
   "outputs": [],
   "source": []
  },
  {
   "cell_type": "code",
   "execution_count": null,
   "metadata": {},
   "outputs": [],
   "source": []
  }
 ],
 "metadata": {
  "kernelspec": {
   "display_name": "Python 3",
   "language": "python",
   "name": "python3"
  },
  "language_info": {
   "codemirror_mode": {
    "name": "ipython",
    "version": 3
   },
   "file_extension": ".py",
   "mimetype": "text/x-python",
   "name": "python",
   "nbconvert_exporter": "python",
   "pygments_lexer": "ipython3",
   "version": "3.7.4"
  }
 },
 "nbformat": 4,
 "nbformat_minor": 2
}
